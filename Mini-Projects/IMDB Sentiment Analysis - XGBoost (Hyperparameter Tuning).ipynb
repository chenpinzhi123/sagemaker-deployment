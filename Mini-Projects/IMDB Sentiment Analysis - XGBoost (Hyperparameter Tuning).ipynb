{
 "cells": [
  {
   "cell_type": "markdown",
   "metadata": {},
   "source": [
    "# Sentiment Analysis\n",
    "\n",
    "## Using XGBoost in SageMaker\n",
    "\n",
    "_Deep Learning Nanodegree Program | Deployment_\n",
    "\n",
    "---\n",
    "\n",
    "In this example of using Amazon's SageMaker service we will construct a random tree model to predict the sentiment of a movie review. You may have seen a version of this example in a pervious lesson although it would have been done using the sklearn package. Instead, we will be using the XGBoost package as it is provided to us by Amazon.\n",
    "\n",
    "## Instructions\n",
    "\n",
    "Some template code has already been provided for you, and you will need to implement additional functionality to successfully complete this notebook. You will not need to modify the included code beyond what is requested. Sections that begin with '**TODO**' in the header indicate that you need to complete or implement some portion within them. Instructions will be provided for each section and the specifics of the implementation are marked in the code block with a `# TODO: ...` comment. Please be sure to read the instructions carefully!\n",
    "\n",
    "In addition to implementing code, there will be questions for you to answer which relate to the task and your implementation. Each section where you will answer a question is preceded by a '**Question:**' header. Carefully read each question and provide your answer below the '**Answer:**' header by editing the Markdown cell.\n",
    "\n",
    "> **Note**: Code and Markdown cells can be executed using the **Shift+Enter** keyboard shortcut. In addition, a cell can be edited by typically clicking it (double-click for Markdown cells) or by pressing **Enter** while it is highlighted."
   ]
  },
  {
   "cell_type": "markdown",
   "metadata": {},
   "source": [
    "## Step 1: Downloading the data\n",
    "\n",
    "The dataset we are going to use is very popular among researchers in Natural Language Processing, usually referred to as the [IMDb dataset](http://ai.stanford.edu/~amaas/data/sentiment/). It consists of movie reviews from the website [imdb.com](http://www.imdb.com/), each labeled as either '**pos**itive', if the reviewer enjoyed the film, or '**neg**ative' otherwise.\n",
    "\n",
    "> Maas, Andrew L., et al. [Learning Word Vectors for Sentiment Analysis](http://ai.stanford.edu/~amaas/data/sentiment/). In _Proceedings of the 49th Annual Meeting of the Association for Computational Linguistics: Human Language Technologies_. Association for Computational Linguistics, 2011.\n",
    "\n",
    "We begin by using some Jupyter Notebook magic to download and extract the dataset."
   ]
  },
  {
   "cell_type": "code",
   "execution_count": 1,
   "metadata": {},
   "outputs": [
    {
     "name": "stdout",
     "output_type": "stream",
     "text": [
      "mkdir: cannot create directory ‘../data’: File exists\n",
      "--2020-02-03 10:50:24--  http://ai.stanford.edu/~amaas/data/sentiment/aclImdb_v1.tar.gz\n",
      "Resolving ai.stanford.edu (ai.stanford.edu)... 171.64.68.10\n",
      "Connecting to ai.stanford.edu (ai.stanford.edu)|171.64.68.10|:80... connected.\n",
      "HTTP request sent, awaiting response... 200 OK\n",
      "Length: 84125825 (80M) [application/x-gzip]\n",
      "Saving to: ‘../data/aclImdb_v1.tar.gz’\n",
      "\n",
      "../data/aclImdb_v1. 100%[===================>]  80.23M  13.5MB/s    in 7.2s    \n",
      "\n",
      "2020-02-03 10:50:31 (11.1 MB/s) - ‘../data/aclImdb_v1.tar.gz’ saved [84125825/84125825]\n",
      "\n"
     ]
    }
   ],
   "source": [
    "%mkdir ../data\n",
    "!wget -O ../data/aclImdb_v1.tar.gz http://ai.stanford.edu/~amaas/data/sentiment/aclImdb_v1.tar.gz\n",
    "!tar -zxf ../data/aclImdb_v1.tar.gz -C ../data"
   ]
  },
  {
   "cell_type": "markdown",
   "metadata": {},
   "source": [
    "## Step 2: Preparing the data\n",
    "\n",
    "The data we have downloaded is split into various files, each of which contains a single review. It will be much easier going forward if we combine these individual files into two large files, one for training and one for testing."
   ]
  },
  {
   "cell_type": "code",
   "execution_count": 2,
   "metadata": {},
   "outputs": [],
   "source": [
    "import os\n",
    "import glob\n",
    "\n",
    "def read_imdb_data(data_dir='../data/aclImdb'):\n",
    "    data = {}\n",
    "    labels = {}\n",
    "    \n",
    "    for data_type in ['train', 'test']:\n",
    "        data[data_type] = {}\n",
    "        labels[data_type] = {}\n",
    "        \n",
    "        for sentiment in ['pos', 'neg']:\n",
    "            data[data_type][sentiment] = []\n",
    "            labels[data_type][sentiment] = []\n",
    "            \n",
    "            path = os.path.join(data_dir, data_type, sentiment, '*.txt')\n",
    "            files = glob.glob(path)\n",
    "            \n",
    "            for f in files:\n",
    "                with open(f) as review:\n",
    "                    data[data_type][sentiment].append(review.read())\n",
    "                    # Here we represent a positive review by '1' and a negative review by '0'\n",
    "                    labels[data_type][sentiment].append(1 if sentiment == 'pos' else 0)\n",
    "                    \n",
    "            assert len(data[data_type][sentiment]) == len(labels[data_type][sentiment]), \\\n",
    "                    \"{}/{} data size does not match labels size\".format(data_type, sentiment)\n",
    "                \n",
    "    return data, labels"
   ]
  },
  {
   "cell_type": "code",
   "execution_count": 3,
   "metadata": {},
   "outputs": [
    {
     "name": "stdout",
     "output_type": "stream",
     "text": [
      "IMDB reviews: train = 12500 pos / 12500 neg, test = 12500 pos / 12500 neg\n"
     ]
    }
   ],
   "source": [
    "data, labels = read_imdb_data()\n",
    "print(\"IMDB reviews: train = {} pos / {} neg, test = {} pos / {} neg\".format(\n",
    "            len(data['train']['pos']), len(data['train']['neg']),\n",
    "            len(data['test']['pos']), len(data['test']['neg'])))"
   ]
  },
  {
   "cell_type": "code",
   "execution_count": 4,
   "metadata": {},
   "outputs": [],
   "source": [
    "from sklearn.utils import shuffle\n",
    "\n",
    "def prepare_imdb_data(data, labels):\n",
    "    \"\"\"Prepare training and test sets from IMDb movie reviews.\"\"\"\n",
    "    \n",
    "    #Combine positive and negative reviews and labels\n",
    "    data_train = data['train']['pos'] + data['train']['neg']\n",
    "    data_test = data['test']['pos'] + data['test']['neg']\n",
    "    labels_train = labels['train']['pos'] + labels['train']['neg']\n",
    "    labels_test = labels['test']['pos'] + labels['test']['neg']\n",
    "    \n",
    "    #Shuffle reviews and corresponding labels within training and test sets\n",
    "    data_train, labels_train = shuffle(data_train, labels_train)\n",
    "    data_test, labels_test = shuffle(data_test, labels_test)\n",
    "    \n",
    "    # Return a unified training data, test data, training labels, test labets\n",
    "    return data_train, data_test, labels_train, labels_test"
   ]
  },
  {
   "cell_type": "code",
   "execution_count": 5,
   "metadata": {},
   "outputs": [
    {
     "name": "stdout",
     "output_type": "stream",
     "text": [
      "IMDb reviews (combined): train = 25000, test = 25000\n"
     ]
    }
   ],
   "source": [
    "train_X, test_X, train_y, test_y = prepare_imdb_data(data, labels)\n",
    "print(\"IMDb reviews (combined): train = {}, test = {}\".format(len(train_X), len(test_X)))"
   ]
  },
  {
   "cell_type": "code",
   "execution_count": 6,
   "metadata": {},
   "outputs": [
    {
     "data": {
      "text/plain": [
       "'The most bizarre of the cinematic sub-genres is the so called \"The Great Ladies of the Grand Guignol\": camp horror films which combined over-the-top melodrama with gothic thrills and always starred by seasoned and almost forgotten actress from hollywood golden age in unflattering roles of either long suffering victims or screeching evil harpies. This genre provided them with an unusual acting showcase that allowed strut their stuff on the screen once again and win new generations of fans at expense of their glamorous images from yesterday.<br /><br />\"What\\'s the matter with Helen\" is the last drop of this sub-genre with stunning performances of both Debbie Reynolds and Shelley Winters as the troubled mothers of two convicted criminals who run away from their past to the sunny California in the 1930s to open a talent school to milk out the eagerly mothers who want their daughters to be the next Shirley Temple. In California, Debbie gets happiness, clients, tango, tap dancing and a new love interest (Dennis Weaver meanwhile Shelley gets wacko with horrible flashbacks, menacing anonymous calls, menacing strangers, menacing Agnes Moorehead as a radio evangelist, cute little rabbits (!) and an unfortunate encounter with an electric fan (ouch!).<br /><br />The sloppy script (penned by Henry Farrell, the man who started all this genre with \"Whatever Happened to Baby Jane\" along with master director Robert Aldrich, Joan Crawford and Bette Davis) is full of plot holes, red herrings and wasted opportunities that could had made this movie great: the underlying themes of twisted motherhood (with Debbie and Shelley\\'s characters as \"failed mothers\" and the overbearing mommies of the child stars) and obsessive female bonding (Debbie and Shelley relationship and the fact that the few male characters of this movie are either sinister or sleazy even Dennis Weaver dream boat Texan) are wasted. Instead we get Debbie Reynolds musicals interludes and dancing tots, although fun to watch take too much screen time of what is supposedly to be a psychological chiller. But still this movie is highly entertaining. The two stars and Curtis Harrington stylish direction easily overcomes its flaws. The movie recreation of the 1930\\'s is colorful and elegant (look at Debbie\\'s clothes!) made with a very tight budget. The increasing atmosphere of madness and hysteria is genuinely creepy with a shocking finale that will haunt you for days. And you wouldn\\'t easily forget that silly \"Goody, goody\" song that runs through the movie either. And seeing an increasingly mad Shelley Winters screw every one of Debbie Reynolds\\' chances at happiness is a hoot to watch!<br /><br />8 out of 10.'"
      ]
     },
     "execution_count": 6,
     "metadata": {},
     "output_type": "execute_result"
    }
   ],
   "source": [
    "train_X[100]"
   ]
  },
  {
   "cell_type": "markdown",
   "metadata": {},
   "source": [
    "## Step 3: Processing the data\n",
    "\n",
    "Now that we have our training and testing datasets merged and ready to use, we need to start processing the raw data into something that will be useable by our machine learning algorithm. To begin with, we remove any html formatting that may appear in the reviews and perform some standard natural language processing in order to homogenize the data."
   ]
  },
  {
   "cell_type": "code",
   "execution_count": 7,
   "metadata": {},
   "outputs": [
    {
     "name": "stdout",
     "output_type": "stream",
     "text": [
      "[nltk_data] Downloading package stopwords to\n",
      "[nltk_data]     /home/ec2-user/nltk_data...\n",
      "[nltk_data]   Package stopwords is already up-to-date!\n"
     ]
    }
   ],
   "source": [
    "import nltk\n",
    "nltk.download(\"stopwords\")\n",
    "from nltk.corpus import stopwords\n",
    "from nltk.stem.porter import *\n",
    "stemmer = PorterStemmer()"
   ]
  },
  {
   "cell_type": "code",
   "execution_count": 8,
   "metadata": {},
   "outputs": [],
   "source": [
    "import re\n",
    "from bs4 import BeautifulSoup\n",
    "\n",
    "def review_to_words(review):\n",
    "    text = BeautifulSoup(review, \"html.parser\").get_text() # Remove HTML tags\n",
    "    text = re.sub(r\"[^a-zA-Z0-9]\", \" \", text.lower()) # Convert to lower case\n",
    "    words = text.split() # Split string into words\n",
    "    words = [w for w in words if w not in stopwords.words(\"english\")] # Remove stopwords\n",
    "    words = [PorterStemmer().stem(w) for w in words] # stem\n",
    "    \n",
    "    return words"
   ]
  },
  {
   "cell_type": "code",
   "execution_count": 9,
   "metadata": {},
   "outputs": [],
   "source": [
    "import pickle\n",
    "\n",
    "cache_dir = os.path.join(\"../cache\", \"sentiment_analysis\")  # where to store cache files\n",
    "os.makedirs(cache_dir, exist_ok=True)  # ensure cache directory exists\n",
    "\n",
    "def preprocess_data(data_train, data_test, labels_train, labels_test,\n",
    "                    cache_dir=cache_dir, cache_file=\"preprocessed_data.pkl\"):\n",
    "    \"\"\"Convert each review to words; read from cache if available.\"\"\"\n",
    "\n",
    "    # If cache_file is not None, try to read from it first\n",
    "    cache_data = None\n",
    "    if cache_file is not None:\n",
    "        try:\n",
    "            with open(os.path.join(cache_dir, cache_file), \"rb\") as f:\n",
    "                cache_data = pickle.load(f)\n",
    "            print(\"Read preprocessed data from cache file:\", cache_file)\n",
    "        except:\n",
    "            pass  # unable to read from cache, but that's okay\n",
    "    \n",
    "    # If cache is missing, then do the heavy lifting\n",
    "    if cache_data is None:\n",
    "        # Preprocess training and test data to obtain words for each review\n",
    "        #words_train = list(map(review_to_words, data_train))\n",
    "        #words_test = list(map(review_to_words, data_test))\n",
    "        words_train = [review_to_words(review) for review in data_train]\n",
    "        words_test = [review_to_words(review) for review in data_test]\n",
    "        \n",
    "        # Write to cache file for future runs\n",
    "        if cache_file is not None:\n",
    "            cache_data = dict(words_train=words_train, words_test=words_test,\n",
    "                              labels_train=labels_train, labels_test=labels_test)\n",
    "            with open(os.path.join(cache_dir, cache_file), \"wb\") as f:\n",
    "                pickle.dump(cache_data, f)\n",
    "            print(\"Wrote preprocessed data to cache file:\", cache_file)\n",
    "    else:\n",
    "        # Unpack data loaded from cache file\n",
    "        words_train, words_test, labels_train, labels_test = (cache_data['words_train'],\n",
    "                cache_data['words_test'], cache_data['labels_train'], cache_data['labels_test'])\n",
    "    \n",
    "    return words_train, words_test, labels_train, labels_test"
   ]
  },
  {
   "cell_type": "code",
   "execution_count": 10,
   "metadata": {},
   "outputs": [
    {
     "name": "stdout",
     "output_type": "stream",
     "text": [
      "Wrote preprocessed data to cache file: preprocessed_data.pkl\n"
     ]
    }
   ],
   "source": [
    "# Preprocess data\n",
    "train_X, test_X, train_y, test_y = preprocess_data(train_X, test_X, train_y, test_y)"
   ]
  },
  {
   "cell_type": "markdown",
   "metadata": {},
   "source": [
    "### Extract Bag-of-Words features\n",
    "\n",
    "For the model we will be implementing, rather than using the reviews directly, we are going to transform each review into a Bag-of-Words feature representation. Keep in mind that 'in the wild' we will only have access to the training set so our transformer can only use the training set to construct a representation."
   ]
  },
  {
   "cell_type": "code",
   "execution_count": 11,
   "metadata": {},
   "outputs": [],
   "source": [
    "import numpy as np\n",
    "from sklearn.feature_extraction.text import CountVectorizer\n",
    "from sklearn.externals import joblib\n",
    "# joblib is an enhanced version of pickle that is more efficient for storing NumPy arrays\n",
    "\n",
    "def extract_BoW_features(words_train, words_test, vocabulary_size=5000,\n",
    "                         cache_dir=cache_dir, cache_file=\"bow_features.pkl\"):\n",
    "    \"\"\"Extract Bag-of-Words for a given set of documents, already preprocessed into words.\"\"\"\n",
    "    \n",
    "    # If cache_file is not None, try to read from it first\n",
    "    cache_data = None\n",
    "    if cache_file is not None:\n",
    "        try:\n",
    "            with open(os.path.join(cache_dir, cache_file), \"rb\") as f:\n",
    "                cache_data = joblib.load(f)\n",
    "            print(\"Read features from cache file:\", cache_file)\n",
    "        except:\n",
    "            pass  # unable to read from cache, but that's okay\n",
    "    \n",
    "    # If cache is missing, then do the heavy lifting\n",
    "    if cache_data is None:\n",
    "        # Fit a vectorizer to training documents and use it to transform them\n",
    "        # NOTE: Training documents have already been preprocessed and tokenized into words;\n",
    "        #       pass in dummy functions to skip those steps, e.g. preprocessor=lambda x: x\n",
    "        vectorizer = CountVectorizer(max_features=vocabulary_size,\n",
    "                preprocessor=lambda x: x, tokenizer=lambda x: x)  # already preprocessed\n",
    "        features_train = vectorizer.fit_transform(words_train).toarray()\n",
    "\n",
    "        # Apply the same vectorizer to transform the test documents (ignore unknown words)\n",
    "        features_test = vectorizer.transform(words_test).toarray()\n",
    "        \n",
    "        # NOTE: Remember to convert the features using .toarray() for a compact representation\n",
    "        \n",
    "        # Write to cache file for future runs (store vocabulary as well)\n",
    "        if cache_file is not None:\n",
    "            vocabulary = vectorizer.vocabulary_\n",
    "            cache_data = dict(features_train=features_train, features_test=features_test,\n",
    "                             vocabulary=vocabulary)\n",
    "            with open(os.path.join(cache_dir, cache_file), \"wb\") as f:\n",
    "                joblib.dump(cache_data, f)\n",
    "            print(\"Wrote features to cache file:\", cache_file)\n",
    "    else:\n",
    "        # Unpack data loaded from cache file\n",
    "        features_train, features_test, vocabulary = (cache_data['features_train'],\n",
    "                cache_data['features_test'], cache_data['vocabulary'])\n",
    "    \n",
    "    # Return both the extracted features as well as the vocabulary\n",
    "    return features_train, features_test, vocabulary"
   ]
  },
  {
   "cell_type": "code",
   "execution_count": 12,
   "metadata": {},
   "outputs": [
    {
     "name": "stdout",
     "output_type": "stream",
     "text": [
      "Wrote features to cache file: bow_features.pkl\n"
     ]
    }
   ],
   "source": [
    "# Extract Bag of Words features for both training and test datasets\n",
    "train_X, test_X, vocabulary = extract_BoW_features(train_X, test_X)"
   ]
  },
  {
   "cell_type": "markdown",
   "metadata": {},
   "source": [
    "## Step 4: Classification using XGBoost\n",
    "\n",
    "Now that we have created the feature representation of our training (and testing) data, it is time to start setting up and using the XGBoost classifier provided by SageMaker.\n",
    "\n",
    "### Writing the dataset\n",
    "\n",
    "The XGBoost classifier that we will be using requires the dataset to be written to a file and stored using Amazon S3. To do this, we will start by splitting the training dataset into two parts, the data we will train the model with and a validation set. Then, we will write those datasets to a file and upload the files to S3. In addition, we will write the test set input to a file and upload the file to S3. This is so that we can use SageMakers Batch Transform functionality to test our model once we've fit it."
   ]
  },
  {
   "cell_type": "code",
   "execution_count": 13,
   "metadata": {},
   "outputs": [],
   "source": [
    "import pandas as pd\n",
    "\n",
    "val_X = pd.DataFrame(train_X[:10000])\n",
    "train_X = pd.DataFrame(train_X[10000:])\n",
    "\n",
    "val_y = pd.DataFrame(train_y[:10000])\n",
    "train_y = pd.DataFrame(train_y[10000:])\n",
    "\n",
    "test_y = pd.DataFrame(test_y)\n",
    "test_X = pd.DataFrame(test_X)"
   ]
  },
  {
   "cell_type": "markdown",
   "metadata": {},
   "source": [
    "The documentation for the XGBoost algorithm in SageMaker requires that the saved datasets should contain no headers or index and that for the training and validation data, the label should occur first for each sample.\n",
    "\n",
    "For more information about this and other algorithms, the SageMaker developer documentation can be found on __[Amazon's website.](https://docs.aws.amazon.com/sagemaker/latest/dg/)__"
   ]
  },
  {
   "cell_type": "code",
   "execution_count": 14,
   "metadata": {},
   "outputs": [],
   "source": [
    "# First we make sure that the local directory in which we'd like to store the training and validation csv files exists.\n",
    "data_dir = '../data/xgboost'\n",
    "if not os.path.exists(data_dir):\n",
    "    os.makedirs(data_dir)"
   ]
  },
  {
   "cell_type": "code",
   "execution_count": 16,
   "metadata": {},
   "outputs": [],
   "source": [
    "# First, save the test data to test.csv in the data_dir directory. Note that we do not save the associated ground truth\n",
    "# labels, instead we will use them later to compare with our model output.\n",
    "\n",
    "pd.concat([test_y, test_X], axis=1).to_csv(os.path.join(data_dir, 'test.csv'), header=False, index=False)\n",
    "pd.concat([val_y, val_X], axis=1).to_csv(os.path.join(data_dir, 'validation.csv'), header=False, index=False)\n",
    "pd.concat([train_y, train_X], axis=1).to_csv(os.path.join(data_dir, 'train.csv'), header=False, index=False)"
   ]
  },
  {
   "cell_type": "code",
   "execution_count": 17,
   "metadata": {},
   "outputs": [],
   "source": [
    "# To save a bit of memory we can set text_X, train_X, val_X, train_y and val_y to None.\n",
    "\n",
    "# train_X = val_X = train_y = val_y = None"
   ]
  },
  {
   "cell_type": "markdown",
   "metadata": {},
   "source": [
    "### Uploading Training / Validation files to S3\n",
    "\n",
    "Amazon's S3 service allows us to store files that can be access by both the built-in training models such as the XGBoost model we will be using as well as custom models such as the one we will see a little later.\n",
    "\n",
    "For this, and most other tasks we will be doing using SageMaker, there are two methods we could use. The first is to use the low level functionality of SageMaker which requires knowing each of the objects involved in the SageMaker environment. The second is to use the high level functionality in which certain choices have been made on the user's behalf. The low level approach benefits from allowing the user a great deal of flexibility while the high level approach makes development much quicker. For our purposes we will opt to use the high level approach although using the low-level approach is certainly an option.\n",
    "\n",
    "Recall the method `upload_data()` which is a member of object representing our current SageMaker session. What this method does is upload the data to the default bucket (which is created if it does not exist) into the path described by the key_prefix variable. To see this for yourself, once you have uploaded the data files, go to the S3 console and look to see where the files have been uploaded.\n",
    "\n",
    "For additional resources, see the __[SageMaker API documentation](http://sagemaker.readthedocs.io/en/latest/)__ and in addition the __[SageMaker Developer Guide.](https://docs.aws.amazon.com/sagemaker/latest/dg/)__"
   ]
  },
  {
   "cell_type": "code",
   "execution_count": 18,
   "metadata": {},
   "outputs": [],
   "source": [
    "import sagemaker\n",
    "\n",
    "session = sagemaker.Session() # Store the current SageMaker session\n",
    "\n",
    "# S3 prefix (which folder will we use)\n",
    "prefix = 'sentiment-xgboost'\n",
    "\n",
    "test_location = session.upload_data(os.path.join(data_dir, 'test.csv'), key_prefix=prefix)\n",
    "val_location = session.upload_data(os.path.join(data_dir, 'validation.csv'), key_prefix=prefix)\n",
    "train_location = session.upload_data(os.path.join(data_dir, 'train.csv'), key_prefix=prefix)"
   ]
  },
  {
   "cell_type": "markdown",
   "metadata": {},
   "source": [
    "### (TODO) Creating a hypertuned XGBoost model\n",
    "\n",
    "Now that the data has been uploaded it is time to create the XGBoost model. As in the Boston Housing notebook, the first step is to create an estimator object which will be used as the *base* of your hyperparameter tuning job."
   ]
  },
  {
   "cell_type": "code",
   "execution_count": 19,
   "metadata": {},
   "outputs": [],
   "source": [
    "from sagemaker import get_execution_role\n",
    "\n",
    "# Our current execution role is require when creating the model as the training\n",
    "# and inference code will need to access the model artifacts.\n",
    "role = get_execution_role()"
   ]
  },
  {
   "cell_type": "code",
   "execution_count": 20,
   "metadata": {},
   "outputs": [
    {
     "name": "stderr",
     "output_type": "stream",
     "text": [
      "WARNING:root:There is a more up to date SageMaker XGBoost image. To use the newer image, please set 'repo_version'='0.90-1'. For example:\n",
      "\tget_image_uri(region, 'xgboost', '0.90-1').\n"
     ]
    }
   ],
   "source": [
    "# We need to retrieve the location of the container which is provided by Amazon for using XGBoost.\n",
    "# As a matter of convenience, the training and inference code both use the same container.\n",
    "from sagemaker.amazon.amazon_estimator import get_image_uri\n",
    "\n",
    "container = get_image_uri(session.boto_region_name, 'xgboost')"
   ]
  },
  {
   "cell_type": "code",
   "execution_count": 21,
   "metadata": {},
   "outputs": [],
   "source": [
    "# TODO: Create a SageMaker estimator using the container location determined in the previous cell.\n",
    "#       It is recommended that you use a single training instance of type ml.m4.xlarge. It is also\n",
    "#       recommended that you use 's3://{}/{}/output'.format(session.default_bucket(), prefix) as the\n",
    "#       output path.\n",
    "\n",
    "xgb = sagemaker.estimator.Estimator(container, # The name of the training container\n",
    "                                    role,      # The IAM role to use (our current role in this case)\n",
    "                                    train_instance_count=1, # The number of instances to use for training\n",
    "                                    train_instance_type='ml.m4.xlarge', # The type of instance ot use for training\n",
    "                                    output_path='s3://{}/{}/output'.format(session.default_bucket(), prefix),\n",
    "                                                                        # Where to save the output (the model artifacts)\n",
    "                                    sagemaker_session=session) # The current SageMaker session\n",
    "\n",
    "# TODO: Set the XGBoost hyperparameters in the xgb object. Don't forget that in this case we have a binary\n",
    "#       label so we should be using the 'binary:logistic' objective.\n",
    "\n",
    "xgb.set_hyperparameters(max_depth=5,\n",
    "                        eta=0.2,\n",
    "                        gamma=4,\n",
    "                        min_child_weight=6,\n",
    "                        subsample=0.8,\n",
    "                        objective='binary:logistic',\n",
    "                        early_stopping_rounds=10,\n",
    "                        num_round=200)"
   ]
  },
  {
   "cell_type": "markdown",
   "metadata": {},
   "source": [
    "### (TODO) Create the hyperparameter tuner\n",
    "\n",
    "Now that the base estimator has been set up we need to construct a hyperparameter tuner object which we will use to request SageMaker construct a hyperparameter tuning job.\n",
    "\n",
    "**Note:** Training a single sentiment analysis XGBoost model takes longer than training a Boston Housing XGBoost model so if you don't want the hyperparameter tuning job to take too long, make sure to not set the total number of models (jobs) too high."
   ]
  },
  {
   "cell_type": "code",
   "execution_count": 22,
   "metadata": {},
   "outputs": [],
   "source": [
    "# First, make sure to import the relevant objects used to construct the tuner\n",
    "from sagemaker.tuner import IntegerParameter, ContinuousParameter, HyperparameterTuner\n",
    "\n",
    "# TODO: Create the hyperparameter tuner object\n",
    "\n",
    "xgb_hyperparameter_tuner = HyperparameterTuner(estimator = xgb, # The estimator object to use as the basis for the training jobs.\n",
    "                                               objective_metric_name = 'validation:rmse', # The metric used to compare trained models.\n",
    "                                               objective_type = 'Minimize', # Whether we wish to minimize or maximize the metric.\n",
    "                                               max_jobs = 20, # The total number of models to train\n",
    "                                               max_parallel_jobs = 3, # The number of models to train in parallel\n",
    "                                               hyperparameter_ranges = {\n",
    "                                                    'max_depth': IntegerParameter(3, 12),\n",
    "                                                    'eta'      : ContinuousParameter(0.05, 0.5),\n",
    "                                                    'min_child_weight': IntegerParameter(2, 8),\n",
    "                                                    'subsample': ContinuousParameter(0.5, 0.9),\n",
    "                                                    'gamma': ContinuousParameter(0, 10),\n",
    "                                               })\n",
    "\n"
   ]
  },
  {
   "cell_type": "markdown",
   "metadata": {},
   "source": [
    "### Fit the hyperparameter tuner\n",
    "\n",
    "Now that the hyperparameter tuner object has been constructed, it is time to fit the various models and find the best performing model."
   ]
  },
  {
   "cell_type": "code",
   "execution_count": 23,
   "metadata": {},
   "outputs": [],
   "source": [
    "s3_input_train = sagemaker.s3_input(s3_data=train_location, content_type='csv')\n",
    "s3_input_validation = sagemaker.s3_input(s3_data=val_location, content_type='csv')"
   ]
  },
  {
   "cell_type": "code",
   "execution_count": 24,
   "metadata": {},
   "outputs": [],
   "source": [
    "xgb_hyperparameter_tuner.fit({'train': s3_input_train, 'validation': s3_input_validation})"
   ]
  },
  {
   "cell_type": "markdown",
   "metadata": {},
   "source": [
    "Remember that the tuning job is constructed and run in the background so if we want to see the progress of our training job we need to call the `wait()` method."
   ]
  },
  {
   "cell_type": "code",
   "execution_count": 25,
   "metadata": {},
   "outputs": [
    {
     "name": "stdout",
     "output_type": "stream",
     "text": [
      "......................................................................................................................................................................................................................................................................................................................................................................................................................................................................................................................................................................................................................................................................................................................................................................................................................................................................................................!\n"
     ]
    }
   ],
   "source": [
    "xgb_hyperparameter_tuner.wait()"
   ]
  },
  {
   "cell_type": "markdown",
   "metadata": {},
   "source": [
    "### (TODO) Testing the model\n",
    "\n",
    "Now that we've run our hyperparameter tuning job, it's time to see how well the best performing model actually performs. To do this we will use SageMaker's Batch Transform functionality. Batch Transform is a convenient way to perform inference on a large dataset in a way that is not realtime. That is, we don't necessarily need to use our model's results immediately and instead we can peform inference on a large number of samples. An example of this in industry might be peforming an end of month report. This method of inference can also be useful to us as it means to can perform inference on our entire test set. \n",
    "\n",
    "Remember that in order to create a transformer object to perform the batch transform job, we need a trained estimator object. We can do that using the `attach()` method, creating an estimator object which is attached to the best trained job."
   ]
  },
  {
   "cell_type": "code",
   "execution_count": 26,
   "metadata": {},
   "outputs": [
    {
     "name": "stdout",
     "output_type": "stream",
     "text": [
      "2020-02-03 11:29:21 Starting - Preparing the instances for training\n",
      "2020-02-03 11:29:21 Downloading - Downloading input data\n",
      "2020-02-03 11:29:21 Training - Training image download completed. Training in progress.\n",
      "2020-02-03 11:29:21 Uploading - Uploading generated training model\n",
      "2020-02-03 11:29:21 Completed - Training job completed\u001b[34mArguments: train\u001b[0m\n",
      "\u001b[34m[2020-02-03:11:20:54:INFO] Running standalone xgboost training.\u001b[0m\n",
      "\u001b[34m[2020-02-03:11:20:54:INFO] Setting up HPO optimized metric to be : rmse\u001b[0m\n",
      "\u001b[34m[2020-02-03:11:20:54:INFO] File size need to be processed in the node: 238.47mb. Available memory size in the node: 8521.24mb\u001b[0m\n",
      "\u001b[34m[2020-02-03:11:20:54:INFO] Determined delimiter of CSV input is ','\u001b[0m\n",
      "\u001b[34m[11:20:54] S3DistributionType set as FullyReplicated\u001b[0m\n",
      "\u001b[34m[11:20:56] 15000x5000 matrix with 75000000 entries loaded from /opt/ml/input/data/train?format=csv&label_column=0&delimiter=,\u001b[0m\n",
      "\u001b[34m[2020-02-03:11:20:56:INFO] Determined delimiter of CSV input is ','\u001b[0m\n",
      "\u001b[34m[11:20:56] S3DistributionType set as FullyReplicated\u001b[0m\n",
      "\u001b[34m[11:20:57] 10000x5000 matrix with 50000000 entries loaded from /opt/ml/input/data/validation?format=csv&label_column=0&delimiter=,\u001b[0m\n",
      "\u001b[34m[11:21:02] src/tree/updater_prune.cc:74: tree pruning end, 1 roots, 96 extra nodes, 32 pruned nodes, max_depth=9\u001b[0m\n",
      "\u001b[34m[0]#011train-rmse:0.469861#011validation-rmse:0.47096\u001b[0m\n",
      "\u001b[34mMultiple eval metrics have been passed: 'validation-rmse' will be used for early stopping.\n",
      "\u001b[0m\n",
      "\u001b[34mWill train until validation-rmse hasn't improved in 10 rounds.\u001b[0m\n",
      "\u001b[34m[11:21:05] src/tree/updater_prune.cc:74: tree pruning end, 1 roots, 98 extra nodes, 32 pruned nodes, max_depth=9\u001b[0m\n",
      "\u001b[34m[1]#011train-rmse:0.44857#011validation-rmse:0.45135\u001b[0m\n",
      "\u001b[34m[11:21:07] src/tree/updater_prune.cc:74: tree pruning end, 1 roots, 90 extra nodes, 24 pruned nodes, max_depth=9\u001b[0m\n",
      "\u001b[34m[2]#011train-rmse:0.433354#011validation-rmse:0.437805\u001b[0m\n",
      "\u001b[34m[11:21:10] src/tree/updater_prune.cc:74: tree pruning end, 1 roots, 80 extra nodes, 32 pruned nodes, max_depth=9\u001b[0m\n",
      "\u001b[34m[3]#011train-rmse:0.421842#011validation-rmse:0.427709\u001b[0m\n",
      "\u001b[34m[11:21:13] src/tree/updater_prune.cc:74: tree pruning end, 1 roots, 98 extra nodes, 36 pruned nodes, max_depth=9\u001b[0m\n",
      "\u001b[34m[4]#011train-rmse:0.411528#011validation-rmse:0.419643\u001b[0m\n",
      "\u001b[34m[11:21:15] src/tree/updater_prune.cc:74: tree pruning end, 1 roots, 76 extra nodes, 36 pruned nodes, max_depth=9\u001b[0m\n",
      "\u001b[34m[5]#011train-rmse:0.40271#011validation-rmse:0.413178\u001b[0m\n",
      "\u001b[34m[11:21:18] src/tree/updater_prune.cc:74: tree pruning end, 1 roots, 60 extra nodes, 38 pruned nodes, max_depth=9\u001b[0m\n",
      "\u001b[34m[6]#011train-rmse:0.39541#011validation-rmse:0.407219\u001b[0m\n",
      "\u001b[34m[11:21:20] src/tree/updater_prune.cc:74: tree pruning end, 1 roots, 64 extra nodes, 36 pruned nodes, max_depth=9\u001b[0m\n",
      "\u001b[34m[7]#011train-rmse:0.388751#011validation-rmse:0.401541\u001b[0m\n",
      "\u001b[34m[11:21:23] src/tree/updater_prune.cc:74: tree pruning end, 1 roots, 46 extra nodes, 40 pruned nodes, max_depth=9\u001b[0m\n",
      "\u001b[34m[8]#011train-rmse:0.383241#011validation-rmse:0.396731\u001b[0m\n",
      "\u001b[34m[11:21:26] src/tree/updater_prune.cc:74: tree pruning end, 1 roots, 54 extra nodes, 26 pruned nodes, max_depth=9\u001b[0m\n",
      "\u001b[34m[9]#011train-rmse:0.378069#011validation-rmse:0.392646\u001b[0m\n",
      "\u001b[34m[11:21:28] src/tree/updater_prune.cc:74: tree pruning end, 1 roots, 70 extra nodes, 40 pruned nodes, max_depth=9\u001b[0m\n",
      "\u001b[34m[10]#011train-rmse:0.372411#011validation-rmse:0.388493\u001b[0m\n",
      "\u001b[34m[11:21:31] src/tree/updater_prune.cc:74: tree pruning end, 1 roots, 56 extra nodes, 46 pruned nodes, max_depth=9\u001b[0m\n",
      "\u001b[34m[11]#011train-rmse:0.367764#011validation-rmse:0.384735\u001b[0m\n",
      "\u001b[34m[11:21:34] src/tree/updater_prune.cc:74: tree pruning end, 1 roots, 86 extra nodes, 30 pruned nodes, max_depth=9\u001b[0m\n",
      "\u001b[34m[12]#011train-rmse:0.362834#011validation-rmse:0.381396\u001b[0m\n",
      "\u001b[34m[11:21:36] src/tree/updater_prune.cc:74: tree pruning end, 1 roots, 56 extra nodes, 28 pruned nodes, max_depth=9\u001b[0m\n",
      "\u001b[34m[13]#011train-rmse:0.358668#011validation-rmse:0.377861\u001b[0m\n",
      "\u001b[34m[11:21:39] src/tree/updater_prune.cc:74: tree pruning end, 1 roots, 48 extra nodes, 30 pruned nodes, max_depth=9\u001b[0m\n",
      "\u001b[34m[14]#011train-rmse:0.354852#011validation-rmse:0.375089\u001b[0m\n",
      "\u001b[34m[11:21:41] src/tree/updater_prune.cc:74: tree pruning end, 1 roots, 64 extra nodes, 44 pruned nodes, max_depth=9\u001b[0m\n",
      "\u001b[34m[15]#011train-rmse:0.35094#011validation-rmse:0.372587\u001b[0m\n",
      "\u001b[34m[11:21:44] src/tree/updater_prune.cc:74: tree pruning end, 1 roots, 32 extra nodes, 32 pruned nodes, max_depth=9\u001b[0m\n",
      "\u001b[34m[16]#011train-rmse:0.348046#011validation-rmse:0.37022\u001b[0m\n",
      "\u001b[34m[11:21:47] src/tree/updater_prune.cc:74: tree pruning end, 1 roots, 50 extra nodes, 40 pruned nodes, max_depth=9\u001b[0m\n",
      "\u001b[34m[17]#011train-rmse:0.345087#011validation-rmse:0.368433\u001b[0m\n",
      "\u001b[34m[11:21:49] src/tree/updater_prune.cc:74: tree pruning end, 1 roots, 48 extra nodes, 18 pruned nodes, max_depth=9\u001b[0m\n",
      "\u001b[34m[18]#011train-rmse:0.341751#011validation-rmse:0.366361\u001b[0m\n",
      "\u001b[34m[11:21:52] src/tree/updater_prune.cc:74: tree pruning end, 1 roots, 46 extra nodes, 46 pruned nodes, max_depth=9\u001b[0m\n",
      "\u001b[34m[19]#011train-rmse:0.338986#011validation-rmse:0.363961\u001b[0m\n",
      "\u001b[34m[11:21:54] src/tree/updater_prune.cc:74: tree pruning end, 1 roots, 40 extra nodes, 48 pruned nodes, max_depth=9\u001b[0m\n",
      "\u001b[34m[20]#011train-rmse:0.336527#011validation-rmse:0.362046\u001b[0m\n",
      "\u001b[34m[11:21:57] src/tree/updater_prune.cc:74: tree pruning end, 1 roots, 66 extra nodes, 42 pruned nodes, max_depth=9\u001b[0m\n",
      "\u001b[34m[21]#011train-rmse:0.333334#011validation-rmse:0.360348\u001b[0m\n",
      "\u001b[34m[11:22:00] src/tree/updater_prune.cc:74: tree pruning end, 1 roots, 64 extra nodes, 40 pruned nodes, max_depth=9\u001b[0m\n",
      "\u001b[34m[22]#011train-rmse:0.330451#011validation-rmse:0.358751\u001b[0m\n",
      "\u001b[34m[11:22:02] src/tree/updater_prune.cc:74: tree pruning end, 1 roots, 34 extra nodes, 28 pruned nodes, max_depth=9\u001b[0m\n",
      "\u001b[34m[23]#011train-rmse:0.328056#011validation-rmse:0.35687\u001b[0m\n",
      "\u001b[34m[11:22:05] src/tree/updater_prune.cc:74: tree pruning end, 1 roots, 46 extra nodes, 16 pruned nodes, max_depth=9\u001b[0m\n",
      "\u001b[34m[24]#011train-rmse:0.325749#011validation-rmse:0.355634\u001b[0m\n",
      "\u001b[34m[11:22:07] src/tree/updater_prune.cc:74: tree pruning end, 1 roots, 72 extra nodes, 28 pruned nodes, max_depth=9\u001b[0m\n",
      "\u001b[34m[25]#011train-rmse:0.322741#011validation-rmse:0.353975\u001b[0m\n",
      "\u001b[34m[11:22:10] src/tree/updater_prune.cc:74: tree pruning end, 1 roots, 38 extra nodes, 36 pruned nodes, max_depth=9\u001b[0m\n",
      "\u001b[34m[26]#011train-rmse:0.320675#011validation-rmse:0.352382\u001b[0m\n",
      "\u001b[34m[11:22:13] src/tree/updater_prune.cc:74: tree pruning end, 1 roots, 48 extra nodes, 36 pruned nodes, max_depth=9\u001b[0m\n",
      "\u001b[34m[27]#011train-rmse:0.318144#011validation-rmse:0.351428\u001b[0m\n",
      "\u001b[34m[11:22:15] src/tree/updater_prune.cc:74: tree pruning end, 1 roots, 30 extra nodes, 36 pruned nodes, max_depth=9\u001b[0m\n",
      "\u001b[34m[28]#011train-rmse:0.316456#011validation-rmse:0.350364\u001b[0m\n",
      "\u001b[34m[11:22:18] src/tree/updater_prune.cc:74: tree pruning end, 1 roots, 34 extra nodes, 30 pruned nodes, max_depth=9\u001b[0m\n",
      "\u001b[34m[29]#011train-rmse:0.31476#011validation-rmse:0.349434\u001b[0m\n",
      "\u001b[34m[11:22:20] src/tree/updater_prune.cc:74: tree pruning end, 1 roots, 38 extra nodes, 30 pruned nodes, max_depth=9\u001b[0m\n",
      "\u001b[34m[30]#011train-rmse:0.313003#011validation-rmse:0.348166\u001b[0m\n",
      "\u001b[34m[11:22:23] src/tree/updater_prune.cc:74: tree pruning end, 1 roots, 44 extra nodes, 36 pruned nodes, max_depth=9\u001b[0m\n",
      "\u001b[34m[31]#011train-rmse:0.311325#011validation-rmse:0.346872\u001b[0m\n",
      "\u001b[34m[11:22:26] src/tree/updater_prune.cc:74: tree pruning end, 1 roots, 36 extra nodes, 20 pruned nodes, max_depth=9\u001b[0m\n",
      "\u001b[34m[32]#011train-rmse:0.309824#011validation-rmse:0.346059\u001b[0m\n",
      "\u001b[34m[11:22:28] src/tree/updater_prune.cc:74: tree pruning end, 1 roots, 56 extra nodes, 24 pruned nodes, max_depth=9\u001b[0m\n",
      "\u001b[34m[33]#011train-rmse:0.307362#011validation-rmse:0.345343\u001b[0m\n",
      "\u001b[34m[11:22:31] src/tree/updater_prune.cc:74: tree pruning end, 1 roots, 34 extra nodes, 30 pruned nodes, max_depth=9\u001b[0m\n",
      "\u001b[34m[34]#011train-rmse:0.305889#011validation-rmse:0.344573\u001b[0m\n",
      "\u001b[34m[11:22:33] src/tree/updater_prune.cc:74: tree pruning end, 1 roots, 50 extra nodes, 34 pruned nodes, max_depth=9\u001b[0m\n",
      "\u001b[34m[35]#011train-rmse:0.304004#011validation-rmse:0.343677\u001b[0m\n",
      "\u001b[34m[11:22:36] src/tree/updater_prune.cc:74: tree pruning end, 1 roots, 32 extra nodes, 34 pruned nodes, max_depth=9\u001b[0m\n",
      "\u001b[34m[36]#011train-rmse:0.302588#011validation-rmse:0.342822\u001b[0m\n",
      "\u001b[34m[11:22:38] src/tree/updater_prune.cc:74: tree pruning end, 1 roots, 44 extra nodes, 32 pruned nodes, max_depth=9\u001b[0m\n",
      "\u001b[34m[37]#011train-rmse:0.300554#011validation-rmse:0.342292\u001b[0m\n",
      "\u001b[34m[11:22:41] src/tree/updater_prune.cc:74: tree pruning end, 1 roots, 46 extra nodes, 20 pruned nodes, max_depth=9\u001b[0m\n",
      "\u001b[34m[38]#011train-rmse:0.299164#011validation-rmse:0.341517\u001b[0m\n",
      "\u001b[34m[11:22:44] src/tree/updater_prune.cc:74: tree pruning end, 1 roots, 30 extra nodes, 36 pruned nodes, max_depth=9\u001b[0m\n",
      "\u001b[34m[39]#011train-rmse:0.297699#011validation-rmse:0.341052\u001b[0m\n",
      "\u001b[34m[11:22:46] src/tree/updater_prune.cc:74: tree pruning end, 1 roots, 26 extra nodes, 30 pruned nodes, max_depth=9\u001b[0m\n",
      "\u001b[34m[40]#011train-rmse:0.296591#011validation-rmse:0.340111\u001b[0m\n",
      "\u001b[34m[11:22:49] src/tree/updater_prune.cc:74: tree pruning end, 1 roots, 40 extra nodes, 34 pruned nodes, max_depth=9\u001b[0m\n",
      "\u001b[34m[41]#011train-rmse:0.295148#011validation-rmse:0.339449\u001b[0m\n",
      "\u001b[34m[11:22:51] src/tree/updater_prune.cc:74: tree pruning end, 1 roots, 36 extra nodes, 30 pruned nodes, max_depth=9\u001b[0m\n",
      "\u001b[34m[42]#011train-rmse:0.293655#011validation-rmse:0.338627\u001b[0m\n",
      "\u001b[34m[11:22:54] src/tree/updater_prune.cc:74: tree pruning end, 1 roots, 26 extra nodes, 24 pruned nodes, max_depth=9\u001b[0m\n",
      "\u001b[34m[43]#011train-rmse:0.292504#011validation-rmse:0.337748\u001b[0m\n",
      "\u001b[34m[11:22:57] src/tree/updater_prune.cc:74: tree pruning end, 1 roots, 32 extra nodes, 32 pruned nodes, max_depth=9\u001b[0m\n",
      "\u001b[34m[44]#011train-rmse:0.291244#011validation-rmse:0.337145\u001b[0m\n",
      "\u001b[34m[11:22:59] src/tree/updater_prune.cc:74: tree pruning end, 1 roots, 24 extra nodes, 36 pruned nodes, max_depth=9\u001b[0m\n",
      "\u001b[34m[45]#011train-rmse:0.29039#011validation-rmse:0.33628\u001b[0m\n",
      "\u001b[34m[11:23:02] src/tree/updater_prune.cc:74: tree pruning end, 1 roots, 32 extra nodes, 44 pruned nodes, max_depth=9\u001b[0m\n",
      "\u001b[34m[46]#011train-rmse:0.289332#011validation-rmse:0.335976\u001b[0m\n",
      "\u001b[34m[11:23:04] src/tree/updater_prune.cc:74: tree pruning end, 1 roots, 50 extra nodes, 34 pruned nodes, max_depth=9\u001b[0m\n",
      "\u001b[34m[47]#011train-rmse:0.287801#011validation-rmse:0.335659\u001b[0m\n",
      "\u001b[34m[11:23:07] src/tree/updater_prune.cc:74: tree pruning end, 1 roots, 44 extra nodes, 50 pruned nodes, max_depth=9\u001b[0m\n",
      "\u001b[34m[48]#011train-rmse:0.286079#011validation-rmse:0.334971\u001b[0m\n",
      "\u001b[34m[11:23:10] src/tree/updater_prune.cc:74: tree pruning end, 1 roots, 22 extra nodes, 20 pruned nodes, max_depth=9\u001b[0m\n",
      "\u001b[34m[49]#011train-rmse:0.285217#011validation-rmse:0.334167\u001b[0m\n",
      "\u001b[34m[11:23:12] src/tree/updater_prune.cc:74: tree pruning end, 1 roots, 42 extra nodes, 28 pruned nodes, max_depth=9\u001b[0m\n",
      "\u001b[34m[50]#011train-rmse:0.283923#011validation-rmse:0.333677\u001b[0m\n",
      "\u001b[34m[11:23:15] src/tree/updater_prune.cc:74: tree pruning end, 1 roots, 28 extra nodes, 26 pruned nodes, max_depth=9\u001b[0m\n",
      "\u001b[34m[51]#011train-rmse:0.283078#011validation-rmse:0.332813\u001b[0m\n",
      "\u001b[34m[11:23:17] src/tree/updater_prune.cc:74: tree pruning end, 1 roots, 32 extra nodes, 22 pruned nodes, max_depth=9\u001b[0m\n",
      "\u001b[34m[52]#011train-rmse:0.282083#011validation-rmse:0.33232\u001b[0m\n",
      "\u001b[34m[11:23:20] src/tree/updater_prune.cc:74: tree pruning end, 1 roots, 26 extra nodes, 30 pruned nodes, max_depth=9\u001b[0m\n",
      "\u001b[34m[53]#011train-rmse:0.281093#011validation-rmse:0.331942\u001b[0m\n",
      "\u001b[34m[11:23:23] src/tree/updater_prune.cc:74: tree pruning end, 1 roots, 32 extra nodes, 22 pruned nodes, max_depth=9\u001b[0m\n",
      "\u001b[34m[54]#011train-rmse:0.279945#011validation-rmse:0.331388\u001b[0m\n",
      "\u001b[34m[11:23:25] src/tree/updater_prune.cc:74: tree pruning end, 1 roots, 36 extra nodes, 38 pruned nodes, max_depth=9\u001b[0m\n",
      "\u001b[34m[55]#011train-rmse:0.278745#011validation-rmse:0.330853\u001b[0m\n",
      "\u001b[34m[11:23:28] src/tree/updater_prune.cc:74: tree pruning end, 1 roots, 46 extra nodes, 60 pruned nodes, max_depth=9\u001b[0m\n",
      "\u001b[34m[56]#011train-rmse:0.277179#011validation-rmse:0.330544\u001b[0m\n",
      "\u001b[34m[11:23:30] src/tree/updater_prune.cc:74: tree pruning end, 1 roots, 24 extra nodes, 34 pruned nodes, max_depth=9\u001b[0m\n",
      "\u001b[34m[57]#011train-rmse:0.276464#011validation-rmse:0.330254\u001b[0m\n",
      "\u001b[34m[11:23:33] src/tree/updater_prune.cc:74: tree pruning end, 1 roots, 56 extra nodes, 36 pruned nodes, max_depth=9\u001b[0m\n",
      "\u001b[34m[58]#011train-rmse:0.274874#011validation-rmse:0.329746\u001b[0m\n",
      "\u001b[34m[11:23:36] src/tree/updater_prune.cc:74: tree pruning end, 1 roots, 24 extra nodes, 20 pruned nodes, max_depth=9\u001b[0m\n",
      "\u001b[34m[59]#011train-rmse:0.2741#011validation-rmse:0.329384\u001b[0m\n",
      "\u001b[34m[11:23:38] src/tree/updater_prune.cc:74: tree pruning end, 1 roots, 28 extra nodes, 48 pruned nodes, max_depth=9\u001b[0m\n",
      "\u001b[34m[60]#011train-rmse:0.27321#011validation-rmse:0.329027\u001b[0m\n",
      "\u001b[34m[11:23:41] src/tree/updater_prune.cc:74: tree pruning end, 1 roots, 24 extra nodes, 10 pruned nodes, max_depth=9\u001b[0m\n",
      "\u001b[34m[61]#011train-rmse:0.272255#011validation-rmse:0.328499\u001b[0m\n",
      "\u001b[34m[11:23:43] src/tree/updater_prune.cc:74: tree pruning end, 1 roots, 26 extra nodes, 24 pruned nodes, max_depth=9\u001b[0m\n",
      "\u001b[34m[62]#011train-rmse:0.271486#011validation-rmse:0.327883\u001b[0m\n",
      "\u001b[34m[11:23:46] src/tree/updater_prune.cc:74: tree pruning end, 1 roots, 30 extra nodes, 42 pruned nodes, max_depth=9\u001b[0m\n",
      "\u001b[34m[63]#011train-rmse:0.270595#011validation-rmse:0.327796\u001b[0m\n",
      "\u001b[34m[11:23:49] src/tree/updater_prune.cc:74: tree pruning end, 1 roots, 28 extra nodes, 20 pruned nodes, max_depth=9\u001b[0m\n",
      "\u001b[34m[64]#011train-rmse:0.269709#011validation-rmse:0.327467\u001b[0m\n",
      "\u001b[34m[11:23:51] src/tree/updater_prune.cc:74: tree pruning end, 1 roots, 20 extra nodes, 14 pruned nodes, max_depth=9\u001b[0m\n",
      "\u001b[34m[65]#011train-rmse:0.269075#011validation-rmse:0.327242\u001b[0m\n",
      "\u001b[34m[11:23:54] src/tree/updater_prune.cc:74: tree pruning end, 1 roots, 26 extra nodes, 24 pruned nodes, max_depth=9\u001b[0m\n",
      "\u001b[34m[66]#011train-rmse:0.268345#011validation-rmse:0.326726\u001b[0m\n",
      "\u001b[34m[11:23:56] src/tree/updater_prune.cc:74: tree pruning end, 1 roots, 20 extra nodes, 22 pruned nodes, max_depth=9\u001b[0m\n",
      "\u001b[34m[67]#011train-rmse:0.267745#011validation-rmse:0.326374\u001b[0m\n",
      "\u001b[34m[11:23:59] src/tree/updater_prune.cc:74: tree pruning end, 1 roots, 20 extra nodes, 22 pruned nodes, max_depth=9\u001b[0m\n",
      "\u001b[34m[68]#011train-rmse:0.267181#011validation-rmse:0.326293\u001b[0m\n",
      "\u001b[34m[11:24:02] src/tree/updater_prune.cc:74: tree pruning end, 1 roots, 30 extra nodes, 18 pruned nodes, max_depth=9\u001b[0m\n",
      "\u001b[34m[69]#011train-rmse:0.266239#011validation-rmse:0.325608\u001b[0m\n",
      "\u001b[34m[11:24:04] src/tree/updater_prune.cc:74: tree pruning end, 1 roots, 26 extra nodes, 34 pruned nodes, max_depth=9\u001b[0m\n",
      "\u001b[34m[70]#011train-rmse:0.265511#011validation-rmse:0.325019\u001b[0m\n",
      "\u001b[34m[11:24:07] src/tree/updater_prune.cc:74: tree pruning end, 1 roots, 20 extra nodes, 20 pruned nodes, max_depth=9\u001b[0m\n",
      "\u001b[34m[71]#011train-rmse:0.264917#011validation-rmse:0.324955\u001b[0m\n",
      "\u001b[34m[11:24:09] src/tree/updater_prune.cc:74: tree pruning end, 1 roots, 24 extra nodes, 28 pruned nodes, max_depth=9\u001b[0m\n",
      "\u001b[34m[72]#011train-rmse:0.264173#011validation-rmse:0.324671\u001b[0m\n",
      "\u001b[34m[11:24:12] src/tree/updater_prune.cc:74: tree pruning end, 1 roots, 24 extra nodes, 14 pruned nodes, max_depth=9\u001b[0m\n",
      "\u001b[34m[73]#011train-rmse:0.263489#011validation-rmse:0.324227\u001b[0m\n",
      "\u001b[34m[11:24:15] src/tree/updater_prune.cc:74: tree pruning end, 1 roots, 44 extra nodes, 28 pruned nodes, max_depth=9\u001b[0m\n",
      "\u001b[34m[74]#011train-rmse:0.262267#011validation-rmse:0.323906\u001b[0m\n",
      "\u001b[34m[11:24:17] src/tree/updater_prune.cc:74: tree pruning end, 1 roots, 18 extra nodes, 38 pruned nodes, max_depth=9\u001b[0m\n",
      "\u001b[34m[75]#011train-rmse:0.26166#011validation-rmse:0.323505\u001b[0m\n",
      "\u001b[34m[11:24:20] src/tree/updater_prune.cc:74: tree pruning end, 1 roots, 36 extra nodes, 28 pruned nodes, max_depth=9\u001b[0m\n",
      "\u001b[34m[76]#011train-rmse:0.260495#011validation-rmse:0.323263\u001b[0m\n",
      "\u001b[34m[11:24:22] src/tree/updater_prune.cc:74: tree pruning end, 1 roots, 36 extra nodes, 18 pruned nodes, max_depth=9\u001b[0m\n",
      "\u001b[34m[77]#011train-rmse:0.259643#011validation-rmse:0.322895\u001b[0m\n",
      "\u001b[34m[11:24:25] src/tree/updater_prune.cc:74: tree pruning end, 1 roots, 28 extra nodes, 12 pruned nodes, max_depth=9\u001b[0m\n",
      "\u001b[34m[78]#011train-rmse:0.258827#011validation-rmse:0.322845\u001b[0m\n",
      "\u001b[34m[11:24:28] src/tree/updater_prune.cc:74: tree pruning end, 1 roots, 22 extra nodes, 34 pruned nodes, max_depth=9\u001b[0m\n",
      "\u001b[34m[79]#011train-rmse:0.258237#011validation-rmse:0.322743\u001b[0m\n",
      "\u001b[34m[11:24:30] src/tree/updater_prune.cc:74: tree pruning end, 1 roots, 38 extra nodes, 26 pruned nodes, max_depth=9\u001b[0m\n",
      "\u001b[34m[80]#011train-rmse:0.257123#011validation-rmse:0.322501\u001b[0m\n",
      "\u001b[34m[11:24:33] src/tree/updater_prune.cc:74: tree pruning end, 1 roots, 28 extra nodes, 20 pruned nodes, max_depth=9\u001b[0m\n",
      "\u001b[34m[81]#011train-rmse:0.256371#011validation-rmse:0.322228\u001b[0m\n",
      "\u001b[34m[11:24:35] src/tree/updater_prune.cc:74: tree pruning end, 1 roots, 18 extra nodes, 6 pruned nodes, max_depth=9\u001b[0m\n",
      "\u001b[34m[82]#011train-rmse:0.255827#011validation-rmse:0.322056\u001b[0m\n",
      "\u001b[34m[11:24:38] src/tree/updater_prune.cc:74: tree pruning end, 1 roots, 32 extra nodes, 16 pruned nodes, max_depth=9\u001b[0m\n",
      "\u001b[34m[83]#011train-rmse:0.254913#011validation-rmse:0.321906\u001b[0m\n",
      "\u001b[34m[11:24:41] src/tree/updater_prune.cc:74: tree pruning end, 1 roots, 18 extra nodes, 6 pruned nodes, max_depth=9\u001b[0m\n",
      "\u001b[34m[84]#011train-rmse:0.254448#011validation-rmse:0.321723\u001b[0m\n",
      "\u001b[34m[11:24:43] src/tree/updater_prune.cc:74: tree pruning end, 1 roots, 26 extra nodes, 64 pruned nodes, max_depth=9\u001b[0m\n",
      "\u001b[34m[85]#011train-rmse:0.253794#011validation-rmse:0.321423\u001b[0m\n",
      "\u001b[34m[11:24:46] src/tree/updater_prune.cc:74: tree pruning end, 1 roots, 36 extra nodes, 42 pruned nodes, max_depth=9\u001b[0m\n",
      "\u001b[34m[86]#011train-rmse:0.252898#011validation-rmse:0.321136\u001b[0m\n",
      "\u001b[34m[11:24:48] src/tree/updater_prune.cc:74: tree pruning end, 1 roots, 20 extra nodes, 22 pruned nodes, max_depth=9\u001b[0m\n",
      "\u001b[34m[87]#011train-rmse:0.252328#011validation-rmse:0.320827\u001b[0m\n",
      "\u001b[34m[11:24:51] src/tree/updater_prune.cc:74: tree pruning end, 1 roots, 22 extra nodes, 14 pruned nodes, max_depth=9\u001b[0m\n",
      "\u001b[34m[88]#011train-rmse:0.251789#011validation-rmse:0.320556\u001b[0m\n",
      "\u001b[34m[11:24:54] src/tree/updater_prune.cc:74: tree pruning end, 1 roots, 34 extra nodes, 40 pruned nodes, max_depth=9\u001b[0m\n",
      "\u001b[34m[89]#011train-rmse:0.251073#011validation-rmse:0.320508\u001b[0m\n",
      "\u001b[34m[11:24:56] src/tree/updater_prune.cc:74: tree pruning end, 1 roots, 22 extra nodes, 14 pruned nodes, max_depth=9\u001b[0m\n",
      "\u001b[34m[90]#011train-rmse:0.250496#011validation-rmse:0.320236\u001b[0m\n",
      "\u001b[34m[11:24:59] src/tree/updater_prune.cc:74: tree pruning end, 1 roots, 26 extra nodes, 28 pruned nodes, max_depth=9\u001b[0m\n",
      "\u001b[34m[91]#011train-rmse:0.24996#011validation-rmse:0.320143\u001b[0m\n",
      "\u001b[34m[11:25:01] src/tree/updater_prune.cc:74: tree pruning end, 1 roots, 42 extra nodes, 38 pruned nodes, max_depth=9\u001b[0m\n",
      "\u001b[34m[92]#011train-rmse:0.248981#011validation-rmse:0.319891\u001b[0m\n",
      "\u001b[34m[11:25:04] src/tree/updater_prune.cc:74: tree pruning end, 1 roots, 20 extra nodes, 10 pruned nodes, max_depth=9\u001b[0m\n",
      "\u001b[34m[93]#011train-rmse:0.248508#011validation-rmse:0.319792\u001b[0m\n",
      "\u001b[34m[11:25:07] src/tree/updater_prune.cc:74: tree pruning end, 1 roots, 18 extra nodes, 16 pruned nodes, max_depth=9\u001b[0m\n",
      "\u001b[34m[94]#011train-rmse:0.248052#011validation-rmse:0.319615\u001b[0m\n",
      "\u001b[34m[11:25:09] src/tree/updater_prune.cc:74: tree pruning end, 1 roots, 24 extra nodes, 22 pruned nodes, max_depth=9\u001b[0m\n",
      "\u001b[34m[95]#011train-rmse:0.247589#011validation-rmse:0.319383\u001b[0m\n",
      "\u001b[34m[11:25:12] src/tree/updater_prune.cc:74: tree pruning end, 1 roots, 22 extra nodes, 14 pruned nodes, max_depth=9\u001b[0m\n",
      "\u001b[34m[96]#011train-rmse:0.246928#011validation-rmse:0.318911\u001b[0m\n",
      "\u001b[34m[11:25:14] src/tree/updater_prune.cc:74: tree pruning end, 1 roots, 32 extra nodes, 32 pruned nodes, max_depth=9\u001b[0m\n",
      "\u001b[34m[97]#011train-rmse:0.246144#011validation-rmse:0.318703\u001b[0m\n",
      "\u001b[34m[11:25:17] src/tree/updater_prune.cc:74: tree pruning end, 1 roots, 20 extra nodes, 24 pruned nodes, max_depth=9\u001b[0m\n",
      "\u001b[34m[98]#011train-rmse:0.245614#011validation-rmse:0.318556\u001b[0m\n",
      "\u001b[34m[11:25:19] src/tree/updater_prune.cc:74: tree pruning end, 1 roots, 20 extra nodes, 22 pruned nodes, max_depth=9\u001b[0m\n",
      "\u001b[34m[99]#011train-rmse:0.245194#011validation-rmse:0.318379\u001b[0m\n",
      "\u001b[34m[11:25:22] src/tree/updater_prune.cc:74: tree pruning end, 1 roots, 30 extra nodes, 40 pruned nodes, max_depth=9\u001b[0m\n",
      "\u001b[34m[100]#011train-rmse:0.244447#011validation-rmse:0.318263\u001b[0m\n",
      "\u001b[34m[11:25:25] src/tree/updater_prune.cc:74: tree pruning end, 1 roots, 20 extra nodes, 10 pruned nodes, max_depth=9\u001b[0m\n",
      "\u001b[34m[101]#011train-rmse:0.244031#011validation-rmse:0.317973\u001b[0m\n",
      "\u001b[34m[11:25:27] src/tree/updater_prune.cc:74: tree pruning end, 1 roots, 20 extra nodes, 18 pruned nodes, max_depth=9\u001b[0m\n",
      "\u001b[34m[102]#011train-rmse:0.243612#011validation-rmse:0.31793\u001b[0m\n",
      "\u001b[34m[11:25:30] src/tree/updater_prune.cc:74: tree pruning end, 1 roots, 24 extra nodes, 28 pruned nodes, max_depth=9\u001b[0m\n",
      "\u001b[34m[103]#011train-rmse:0.242976#011validation-rmse:0.317826\u001b[0m\n",
      "\u001b[34m[11:25:32] src/tree/updater_prune.cc:74: tree pruning end, 1 roots, 22 extra nodes, 24 pruned nodes, max_depth=9\u001b[0m\n",
      "\u001b[34m[104]#011train-rmse:0.242448#011validation-rmse:0.317635\u001b[0m\n",
      "\u001b[34m[11:25:35] src/tree/updater_prune.cc:74: tree pruning end, 1 roots, 28 extra nodes, 36 pruned nodes, max_depth=9\u001b[0m\n",
      "\u001b[34m[105]#011train-rmse:0.24195#011validation-rmse:0.317387\u001b[0m\n",
      "\u001b[34m[11:25:38] src/tree/updater_prune.cc:74: tree pruning end, 1 roots, 18 extra nodes, 14 pruned nodes, max_depth=9\u001b[0m\n",
      "\u001b[34m[106]#011train-rmse:0.241453#011validation-rmse:0.317197\u001b[0m\n",
      "\u001b[34m[11:25:40] src/tree/updater_prune.cc:74: tree pruning end, 1 roots, 24 extra nodes, 8 pruned nodes, max_depth=9\u001b[0m\n",
      "\u001b[34m[107]#011train-rmse:0.240844#011validation-rmse:0.317117\u001b[0m\n",
      "\u001b[34m[11:25:43] src/tree/updater_prune.cc:74: tree pruning end, 1 roots, 20 extra nodes, 16 pruned nodes, max_depth=9\u001b[0m\n",
      "\u001b[34m[108]#011train-rmse:0.240342#011validation-rmse:0.316952\u001b[0m\n",
      "\u001b[34m[11:25:45] src/tree/updater_prune.cc:74: tree pruning end, 1 roots, 22 extra nodes, 42 pruned nodes, max_depth=9\u001b[0m\n",
      "\u001b[34m[109]#011train-rmse:0.239877#011validation-rmse:0.316866\u001b[0m\n",
      "\u001b[34m[11:25:48] src/tree/updater_prune.cc:74: tree pruning end, 1 roots, 18 extra nodes, 18 pruned nodes, max_depth=9\u001b[0m\n",
      "\u001b[34m[110]#011train-rmse:0.239459#011validation-rmse:0.316642\u001b[0m\n",
      "\u001b[34m[11:25:51] src/tree/updater_prune.cc:74: tree pruning end, 1 roots, 28 extra nodes, 16 pruned nodes, max_depth=9\u001b[0m\n",
      "\u001b[34m[111]#011train-rmse:0.238776#011validation-rmse:0.316461\u001b[0m\n",
      "\u001b[34m[11:25:53] src/tree/updater_prune.cc:74: tree pruning end, 1 roots, 18 extra nodes, 6 pruned nodes, max_depth=9\u001b[0m\n",
      "\u001b[34m[112]#011train-rmse:0.238408#011validation-rmse:0.3165\u001b[0m\n",
      "\u001b[34m[11:25:56] src/tree/updater_prune.cc:74: tree pruning end, 1 roots, 18 extra nodes, 20 pruned nodes, max_depth=9\u001b[0m\n",
      "\u001b[34m[113]#011train-rmse:0.238012#011validation-rmse:0.316271\u001b[0m\n",
      "\u001b[34m[11:25:59] src/tree/updater_prune.cc:74: tree pruning end, 1 roots, 22 extra nodes, 20 pruned nodes, max_depth=9\u001b[0m\n",
      "\u001b[34m[114]#011train-rmse:0.237584#011validation-rmse:0.316057\u001b[0m\n",
      "\u001b[34m[11:26:01] src/tree/updater_prune.cc:74: tree pruning end, 1 roots, 20 extra nodes, 16 pruned nodes, max_depth=9\u001b[0m\n",
      "\u001b[34m[115]#011train-rmse:0.237238#011validation-rmse:0.315889\u001b[0m\n",
      "\u001b[34m[11:26:04] src/tree/updater_prune.cc:74: tree pruning end, 1 roots, 18 extra nodes, 6 pruned nodes, max_depth=9\u001b[0m\n",
      "\u001b[34m[116]#011train-rmse:0.236878#011validation-rmse:0.315735\u001b[0m\n",
      "\u001b[34m[11:26:06] src/tree/updater_prune.cc:74: tree pruning end, 1 roots, 22 extra nodes, 16 pruned nodes, max_depth=9\u001b[0m\n",
      "\u001b[34m[117]#011train-rmse:0.236358#011validation-rmse:0.315787\u001b[0m\n",
      "\u001b[34m[11:26:09] src/tree/updater_prune.cc:74: tree pruning end, 1 roots, 24 extra nodes, 18 pruned nodes, max_depth=9\u001b[0m\n",
      "\u001b[34m[118]#011train-rmse:0.235876#011validation-rmse:0.315761\u001b[0m\n",
      "\u001b[34m[11:26:12] src/tree/updater_prune.cc:74: tree pruning end, 1 roots, 18 extra nodes, 14 pruned nodes, max_depth=9\u001b[0m\n",
      "\u001b[34m[119]#011train-rmse:0.235526#011validation-rmse:0.315737\u001b[0m\n",
      "\u001b[34m[11:26:14] src/tree/updater_prune.cc:74: tree pruning end, 1 roots, 18 extra nodes, 16 pruned nodes, max_depth=9\u001b[0m\n",
      "\u001b[34m[120]#011train-rmse:0.235206#011validation-rmse:0.315656\u001b[0m\n",
      "\u001b[34m[11:26:17] src/tree/updater_prune.cc:74: tree pruning end, 1 roots, 18 extra nodes, 20 pruned nodes, max_depth=9\u001b[0m\n",
      "\u001b[34m[121]#011train-rmse:0.23484#011validation-rmse:0.315299\u001b[0m\n",
      "\u001b[34m[11:26:19] src/tree/updater_prune.cc:74: tree pruning end, 1 roots, 20 extra nodes, 6 pruned nodes, max_depth=9\u001b[0m\n",
      "\u001b[34m[122]#011train-rmse:0.234482#011validation-rmse:0.315163\u001b[0m\n",
      "\u001b[34m[11:26:22] src/tree/updater_prune.cc:74: tree pruning end, 1 roots, 22 extra nodes, 26 pruned nodes, max_depth=9\u001b[0m\n",
      "\u001b[34m[123]#011train-rmse:0.234082#011validation-rmse:0.315124\u001b[0m\n",
      "\u001b[34m[11:26:24] src/tree/updater_prune.cc:74: tree pruning end, 1 roots, 20 extra nodes, 50 pruned nodes, max_depth=9\u001b[0m\n",
      "\u001b[34m[124]#011train-rmse:0.233723#011validation-rmse:0.315136\u001b[0m\n",
      "\u001b[34m[11:26:27] src/tree/updater_prune.cc:74: tree pruning end, 1 roots, 30 extra nodes, 14 pruned nodes, max_depth=9\u001b[0m\n",
      "\u001b[34m[125]#011train-rmse:0.233207#011validation-rmse:0.314914\u001b[0m\n",
      "\u001b[34m[11:26:30] src/tree/updater_prune.cc:74: tree pruning end, 1 roots, 20 extra nodes, 16 pruned nodes, max_depth=9\u001b[0m\n",
      "\u001b[34m[126]#011train-rmse:0.232823#011validation-rmse:0.314912\u001b[0m\n",
      "\u001b[34m[11:26:32] src/tree/updater_prune.cc:74: tree pruning end, 1 roots, 18 extra nodes, 6 pruned nodes, max_depth=9\u001b[0m\n",
      "\u001b[34m[127]#011train-rmse:0.232483#011validation-rmse:0.314914\u001b[0m\n",
      "\u001b[34m[11:26:35] src/tree/updater_prune.cc:74: tree pruning end, 1 roots, 20 extra nodes, 18 pruned nodes, max_depth=9\u001b[0m\n",
      "\u001b[34m[128]#011train-rmse:0.232195#011validation-rmse:0.314584\u001b[0m\n",
      "\u001b[34m[11:26:37] src/tree/updater_prune.cc:74: tree pruning end, 1 roots, 18 extra nodes, 20 pruned nodes, max_depth=9\u001b[0m\n",
      "\u001b[34m[129]#011train-rmse:0.231866#011validation-rmse:0.31437\u001b[0m\n",
      "\u001b[34m[11:26:40] src/tree/updater_prune.cc:74: tree pruning end, 1 roots, 30 extra nodes, 24 pruned nodes, max_depth=9\u001b[0m\n",
      "\u001b[34m[130]#011train-rmse:0.231319#011validation-rmse:0.314128\u001b[0m\n",
      "\u001b[34m[11:26:43] src/tree/updater_prune.cc:74: tree pruning end, 1 roots, 22 extra nodes, 34 pruned nodes, max_depth=9\u001b[0m\n",
      "\u001b[34m[131]#011train-rmse:0.230845#011validation-rmse:0.313984\u001b[0m\n",
      "\u001b[34m[11:26:45] src/tree/updater_prune.cc:74: tree pruning end, 1 roots, 32 extra nodes, 34 pruned nodes, max_depth=9\u001b[0m\n",
      "\u001b[34m[132]#011train-rmse:0.230215#011validation-rmse:0.313848\u001b[0m\n",
      "\u001b[34m[11:26:48] src/tree/updater_prune.cc:74: tree pruning end, 1 roots, 24 extra nodes, 16 pruned nodes, max_depth=9\u001b[0m\n",
      "\u001b[34m[133]#011train-rmse:0.229692#011validation-rmse:0.313812\u001b[0m\n",
      "\u001b[34m[11:26:50] src/tree/updater_prune.cc:74: tree pruning end, 1 roots, 24 extra nodes, 34 pruned nodes, max_depth=9\u001b[0m\n",
      "\u001b[34m[134]#011train-rmse:0.229314#011validation-rmse:0.313621\u001b[0m\n",
      "\u001b[34m[11:26:53] src/tree/updater_prune.cc:74: tree pruning end, 1 roots, 28 extra nodes, 34 pruned nodes, max_depth=9\u001b[0m\n",
      "\u001b[34m[135]#011train-rmse:0.228652#011validation-rmse:0.313393\u001b[0m\n",
      "\u001b[34m[11:26:56] src/tree/updater_prune.cc:74: tree pruning end, 1 roots, 22 extra nodes, 8 pruned nodes, max_depth=9\u001b[0m\n",
      "\u001b[34m[136]#011train-rmse:0.228195#011validation-rmse:0.313292\u001b[0m\n",
      "\u001b[34m[11:26:58] src/tree/updater_prune.cc:74: tree pruning end, 1 roots, 20 extra nodes, 22 pruned nodes, max_depth=8\u001b[0m\n",
      "\u001b[34m[137]#011train-rmse:0.22778#011validation-rmse:0.3132\u001b[0m\n",
      "\u001b[34m[11:27:01] src/tree/updater_prune.cc:74: tree pruning end, 1 roots, 18 extra nodes, 54 pruned nodes, max_depth=9\u001b[0m\n",
      "\u001b[34m[138]#011train-rmse:0.227468#011validation-rmse:0.313004\u001b[0m\n",
      "\u001b[34m[11:27:03] src/tree/updater_prune.cc:74: tree pruning end, 1 roots, 16 extra nodes, 22 pruned nodes, max_depth=8\u001b[0m\n"
     ]
    },
    {
     "name": "stdout",
     "output_type": "stream",
     "text": [
      "\u001b[34m[139]#011train-rmse:0.227189#011validation-rmse:0.313115\u001b[0m\n",
      "\u001b[34m[11:27:06] src/tree/updater_prune.cc:74: tree pruning end, 1 roots, 20 extra nodes, 22 pruned nodes, max_depth=9\u001b[0m\n",
      "\u001b[34m[140]#011train-rmse:0.226887#011validation-rmse:0.31305\u001b[0m\n",
      "\u001b[34m[11:27:09] src/tree/updater_prune.cc:74: tree pruning end, 1 roots, 20 extra nodes, 40 pruned nodes, max_depth=9\u001b[0m\n",
      "\u001b[34m[141]#011train-rmse:0.226632#011validation-rmse:0.313074\u001b[0m\n",
      "\u001b[34m[11:27:11] src/tree/updater_prune.cc:74: tree pruning end, 1 roots, 18 extra nodes, 20 pruned nodes, max_depth=9\u001b[0m\n",
      "\u001b[34m[142]#011train-rmse:0.22631#011validation-rmse:0.312813\u001b[0m\n",
      "\u001b[34m[11:27:14] src/tree/updater_prune.cc:74: tree pruning end, 1 roots, 20 extra nodes, 4 pruned nodes, max_depth=8\u001b[0m\n",
      "\u001b[34m[143]#011train-rmse:0.22592#011validation-rmse:0.312881\u001b[0m\n",
      "\u001b[34m[11:27:16] src/tree/updater_prune.cc:74: tree pruning end, 1 roots, 22 extra nodes, 42 pruned nodes, max_depth=9\u001b[0m\n",
      "\u001b[34m[144]#011train-rmse:0.225518#011validation-rmse:0.312751\u001b[0m\n",
      "\u001b[34m[11:27:19] src/tree/updater_prune.cc:74: tree pruning end, 1 roots, 4 extra nodes, 28 pruned nodes, max_depth=2\u001b[0m\n",
      "\u001b[34m[145]#011train-rmse:0.225516#011validation-rmse:0.312775\u001b[0m\n",
      "\u001b[34m[11:27:22] src/tree/updater_prune.cc:74: tree pruning end, 1 roots, 22 extra nodes, 48 pruned nodes, max_depth=9\u001b[0m\n",
      "\u001b[34m[146]#011train-rmse:0.22511#011validation-rmse:0.312653\u001b[0m\n",
      "\u001b[34m[11:27:24] src/tree/updater_prune.cc:74: tree pruning end, 1 roots, 20 extra nodes, 18 pruned nodes, max_depth=9\u001b[0m\n",
      "\u001b[34m[147]#011train-rmse:0.224821#011validation-rmse:0.312553\u001b[0m\n",
      "\u001b[34m[11:27:27] src/tree/updater_prune.cc:74: tree pruning end, 1 roots, 18 extra nodes, 10 pruned nodes, max_depth=9\u001b[0m\n",
      "\u001b[34m[148]#011train-rmse:0.224535#011validation-rmse:0.312613\u001b[0m\n",
      "\u001b[34m[11:27:29] src/tree/updater_prune.cc:74: tree pruning end, 1 roots, 44 extra nodes, 42 pruned nodes, max_depth=9\u001b[0m\n",
      "\u001b[34m[149]#011train-rmse:0.223821#011validation-rmse:0.312484\u001b[0m\n",
      "\u001b[34m[11:27:32] src/tree/updater_prune.cc:74: tree pruning end, 1 roots, 12 extra nodes, 24 pruned nodes, max_depth=6\u001b[0m\n",
      "\u001b[34m[150]#011train-rmse:0.223647#011validation-rmse:0.312371\u001b[0m\n",
      "\u001b[34m[11:27:35] src/tree/updater_prune.cc:74: tree pruning end, 1 roots, 28 extra nodes, 30 pruned nodes, max_depth=9\u001b[0m\n",
      "\u001b[34m[151]#011train-rmse:0.223054#011validation-rmse:0.312215\u001b[0m\n",
      "\u001b[34m[11:27:37] src/tree/updater_prune.cc:74: tree pruning end, 1 roots, 18 extra nodes, 20 pruned nodes, max_depth=9\u001b[0m\n",
      "\u001b[34m[152]#011train-rmse:0.22282#011validation-rmse:0.312001\u001b[0m\n",
      "\u001b[34m[11:27:40] src/tree/updater_prune.cc:74: tree pruning end, 1 roots, 14 extra nodes, 28 pruned nodes, max_depth=6\u001b[0m\n",
      "\u001b[34m[153]#011train-rmse:0.222628#011validation-rmse:0.311908\u001b[0m\n",
      "\u001b[34m[11:27:42] src/tree/updater_prune.cc:74: tree pruning end, 1 roots, 18 extra nodes, 30 pruned nodes, max_depth=9\u001b[0m\n",
      "\u001b[34m[154]#011train-rmse:0.222369#011validation-rmse:0.311693\u001b[0m\n",
      "\u001b[34m[11:27:45] src/tree/updater_prune.cc:74: tree pruning end, 1 roots, 26 extra nodes, 26 pruned nodes, max_depth=9\u001b[0m\n",
      "\u001b[34m[155]#011train-rmse:0.22182#011validation-rmse:0.311607\u001b[0m\n",
      "\u001b[34m[11:27:48] src/tree/updater_prune.cc:74: tree pruning end, 1 roots, 22 extra nodes, 22 pruned nodes, max_depth=9\u001b[0m\n",
      "\u001b[34m[156]#011train-rmse:0.22144#011validation-rmse:0.311641\u001b[0m\n",
      "\u001b[34m[11:27:50] src/tree/updater_prune.cc:74: tree pruning end, 1 roots, 18 extra nodes, 18 pruned nodes, max_depth=9\u001b[0m\n",
      "\u001b[34m[157]#011train-rmse:0.221207#011validation-rmse:0.31148\u001b[0m\n",
      "\u001b[34m[11:27:53] src/tree/updater_prune.cc:74: tree pruning end, 1 roots, 18 extra nodes, 4 pruned nodes, max_depth=9\u001b[0m\n",
      "\u001b[34m[158]#011train-rmse:0.2209#011validation-rmse:0.311402\u001b[0m\n",
      "\u001b[34m[11:27:55] src/tree/updater_prune.cc:74: tree pruning end, 1 roots, 20 extra nodes, 34 pruned nodes, max_depth=9\u001b[0m\n",
      "\u001b[34m[159]#011train-rmse:0.220463#011validation-rmse:0.311377\u001b[0m\n",
      "\u001b[34m[11:27:58] src/tree/updater_prune.cc:74: tree pruning end, 1 roots, 18 extra nodes, 12 pruned nodes, max_depth=9\u001b[0m\n",
      "\u001b[34m[160]#011train-rmse:0.220179#011validation-rmse:0.31143\u001b[0m\n",
      "\u001b[34m[11:28:01] src/tree/updater_prune.cc:74: tree pruning end, 1 roots, 20 extra nodes, 22 pruned nodes, max_depth=9\u001b[0m\n",
      "\u001b[34m[161]#011train-rmse:0.219957#011validation-rmse:0.311243\u001b[0m\n",
      "\u001b[34m[11:28:03] src/tree/updater_prune.cc:74: tree pruning end, 1 roots, 12 extra nodes, 38 pruned nodes, max_depth=6\u001b[0m\n",
      "\u001b[34m[162]#011train-rmse:0.219745#011validation-rmse:0.311003\u001b[0m\n",
      "\u001b[34m[11:28:06] src/tree/updater_prune.cc:74: tree pruning end, 1 roots, 26 extra nodes, 22 pruned nodes, max_depth=9\u001b[0m\n",
      "\u001b[34m[163]#011train-rmse:0.219225#011validation-rmse:0.31085\u001b[0m\n",
      "\u001b[34m[11:28:08] src/tree/updater_prune.cc:74: tree pruning end, 1 roots, 16 extra nodes, 8 pruned nodes, max_depth=8\u001b[0m\n",
      "\u001b[34m[164]#011train-rmse:0.219034#011validation-rmse:0.310837\u001b[0m\n",
      "\u001b[34m[11:28:11] src/tree/updater_prune.cc:74: tree pruning end, 1 roots, 16 extra nodes, 30 pruned nodes, max_depth=7\u001b[0m\n",
      "\u001b[34m[165]#011train-rmse:0.218801#011validation-rmse:0.310986\u001b[0m\n",
      "\u001b[34m[11:28:14] src/tree/updater_prune.cc:74: tree pruning end, 1 roots, 8 extra nodes, 16 pruned nodes, max_depth=4\u001b[0m\n",
      "\u001b[34m[166]#011train-rmse:0.218698#011validation-rmse:0.310907\u001b[0m\n",
      "\u001b[34m[11:28:16] src/tree/updater_prune.cc:74: tree pruning end, 1 roots, 22 extra nodes, 36 pruned nodes, max_depth=9\u001b[0m\n",
      "\u001b[34m[167]#011train-rmse:0.218276#011validation-rmse:0.310887\u001b[0m\n",
      "\u001b[34m[11:28:19] src/tree/updater_prune.cc:74: tree pruning end, 1 roots, 36 extra nodes, 32 pruned nodes, max_depth=9\u001b[0m\n",
      "\u001b[34m[168]#011train-rmse:0.217591#011validation-rmse:0.310876\u001b[0m\n",
      "\u001b[34m[11:28:21] src/tree/updater_prune.cc:74: tree pruning end, 1 roots, 18 extra nodes, 10 pruned nodes, max_depth=9\u001b[0m\n",
      "\u001b[34m[169]#011train-rmse:0.217292#011validation-rmse:0.310806\u001b[0m\n",
      "\u001b[34m[11:28:24] src/tree/updater_prune.cc:74: tree pruning end, 1 roots, 8 extra nodes, 34 pruned nodes, max_depth=4\u001b[0m\n",
      "\u001b[34m[170]#011train-rmse:0.217196#011validation-rmse:0.310752\u001b[0m\n",
      "\u001b[34m[11:28:27] src/tree/updater_prune.cc:74: tree pruning end, 1 roots, 16 extra nodes, 26 pruned nodes, max_depth=7\u001b[0m\n",
      "\u001b[34m[171]#011train-rmse:0.216891#011validation-rmse:0.310675\u001b[0m\n",
      "\u001b[34m[11:28:29] src/tree/updater_prune.cc:74: tree pruning end, 1 roots, 2 extra nodes, 44 pruned nodes, max_depth=1\u001b[0m\n",
      "\u001b[34m[172]#011train-rmse:0.21685#011validation-rmse:0.310666\u001b[0m\n",
      "\u001b[34m[11:28:32] src/tree/updater_prune.cc:74: tree pruning end, 1 roots, 22 extra nodes, 38 pruned nodes, max_depth=8\u001b[0m\n",
      "\u001b[34m[173]#011train-rmse:0.216426#011validation-rmse:0.310793\u001b[0m\n",
      "\u001b[34m[11:28:34] src/tree/updater_prune.cc:74: tree pruning end, 1 roots, 16 extra nodes, 44 pruned nodes, max_depth=8\u001b[0m\n",
      "\u001b[34m[174]#011train-rmse:0.216153#011validation-rmse:0.310823\u001b[0m\n",
      "\u001b[34m[11:28:37] src/tree/updater_prune.cc:74: tree pruning end, 1 roots, 16 extra nodes, 34 pruned nodes, max_depth=8\u001b[0m\n",
      "\u001b[34m[175]#011train-rmse:0.215901#011validation-rmse:0.310986\u001b[0m\n",
      "\u001b[34m[11:28:40] src/tree/updater_prune.cc:74: tree pruning end, 1 roots, 18 extra nodes, 20 pruned nodes, max_depth=8\u001b[0m\n",
      "\u001b[34m[176]#011train-rmse:0.215653#011validation-rmse:0.31086\u001b[0m\n",
      "\u001b[34m[11:28:42] src/tree/updater_prune.cc:74: tree pruning end, 1 roots, 16 extra nodes, 24 pruned nodes, max_depth=8\u001b[0m\n",
      "\u001b[34m[177]#011train-rmse:0.215417#011validation-rmse:0.310692\u001b[0m\n",
      "\u001b[34m[11:28:45] src/tree/updater_prune.cc:74: tree pruning end, 1 roots, 16 extra nodes, 26 pruned nodes, max_depth=7\u001b[0m\n",
      "\u001b[34m[178]#011train-rmse:0.215162#011validation-rmse:0.310538\u001b[0m\n",
      "\u001b[34m[11:28:47] src/tree/updater_prune.cc:74: tree pruning end, 1 roots, 30 extra nodes, 28 pruned nodes, max_depth=9\u001b[0m\n",
      "\u001b[34m[179]#011train-rmse:0.214571#011validation-rmse:0.310737\u001b[0m\n",
      "\u001b[34m[11:28:50] src/tree/updater_prune.cc:74: tree pruning end, 1 roots, 22 extra nodes, 26 pruned nodes, max_depth=9\u001b[0m\n",
      "\u001b[34m[180]#011train-rmse:0.21427#011validation-rmse:0.31069\u001b[0m\n",
      "\u001b[34m[11:28:52] src/tree/updater_prune.cc:74: tree pruning end, 1 roots, 22 extra nodes, 28 pruned nodes, max_depth=8\u001b[0m\n",
      "\u001b[34m[181]#011train-rmse:0.21393#011validation-rmse:0.310925\u001b[0m\n",
      "\u001b[34m[11:28:55] src/tree/updater_prune.cc:74: tree pruning end, 1 roots, 20 extra nodes, 14 pruned nodes, max_depth=8\u001b[0m\n",
      "\u001b[34m[182]#011train-rmse:0.213613#011validation-rmse:0.311058\u001b[0m\n",
      "\u001b[34m[11:28:58] src/tree/updater_prune.cc:74: tree pruning end, 1 roots, 14 extra nodes, 20 pruned nodes, max_depth=6\u001b[0m\n",
      "\u001b[34m[183]#011train-rmse:0.213352#011validation-rmse:0.311197\u001b[0m\n",
      "\u001b[34m[11:29:00] src/tree/updater_prune.cc:74: tree pruning end, 1 roots, 16 extra nodes, 22 pruned nodes, max_depth=7\u001b[0m\n",
      "\u001b[34m[184]#011train-rmse:0.213117#011validation-rmse:0.311312\u001b[0m\n",
      "\u001b[34m[11:29:03] src/tree/updater_prune.cc:74: tree pruning end, 1 roots, 32 extra nodes, 16 pruned nodes, max_depth=9\u001b[0m\n",
      "\u001b[34m[185]#011train-rmse:0.212649#011validation-rmse:0.311058\u001b[0m\n",
      "\u001b[34m[11:29:06] src/tree/updater_prune.cc:74: tree pruning end, 1 roots, 12 extra nodes, 24 pruned nodes, max_depth=6\u001b[0m\n",
      "\u001b[34m[186]#011train-rmse:0.212491#011validation-rmse:0.311053\u001b[0m\n",
      "\u001b[34m[11:29:08] src/tree/updater_prune.cc:74: tree pruning end, 1 roots, 20 extra nodes, 24 pruned nodes, max_depth=9\u001b[0m\n",
      "\u001b[34m[187]#011train-rmse:0.212126#011validation-rmse:0.310933\u001b[0m\n",
      "\u001b[34m[11:29:11] src/tree/updater_prune.cc:74: tree pruning end, 1 roots, 16 extra nodes, 44 pruned nodes, max_depth=7\u001b[0m\n",
      "\u001b[34m[188]#011train-rmse:0.211948#011validation-rmse:0.310913\u001b[0m\n",
      "\u001b[34mStopping. Best iteration:\u001b[0m\n",
      "\u001b[34m[178]#011train-rmse:0.215162#011validation-rmse:0.310538\n",
      "\u001b[0m\n",
      "Training seconds: 548\n",
      "Billable seconds: 548\n"
     ]
    }
   ],
   "source": [
    "# TODO: Create a new estimator object attached to the best training job found during hyperparameter tuning\n",
    "\n",
    "xgb_attached = sagemaker.estimator.Estimator.attach(xgb_hyperparameter_tuner.best_training_job())\n"
   ]
  },
  {
   "cell_type": "markdown",
   "metadata": {},
   "source": [
    "Now that we have an estimator object attached to the correct training job, we can proceed as we normally would and create a transformer object."
   ]
  },
  {
   "cell_type": "code",
   "execution_count": 27,
   "metadata": {},
   "outputs": [],
   "source": [
    "# TODO: Create a transformer object from the attached estimator. Using an instance count of 1 and an instance type of ml.m4.xlarge\n",
    "#       should be more than enough.\n",
    "\n",
    "xgb_transformer = xgb_attached.transformer(instance_count = 1, instance_type = 'ml.m4.xlarge')\n"
   ]
  },
  {
   "cell_type": "markdown",
   "metadata": {},
   "source": [
    "Next we actually perform the transform job. When doing so we need to make sure to specify the type of data we are sending so that it is serialized correctly in the background. In our case we are providing our model with csv data so we specify `text/csv`. Also, if the test data that we have provided is too large to process all at once then we need to specify how the data file should be split up. Since each line is a single entry in our data set we tell SageMaker that it can split the input on each line."
   ]
  },
  {
   "cell_type": "code",
   "execution_count": 28,
   "metadata": {},
   "outputs": [],
   "source": [
    "# TODO: Start the transform job. Make sure to specify the content type and the split type of the test data.\n",
    "\n",
    "xgb_transformer.transform(test_location, content_type='text/csv', split_type='Line')"
   ]
  },
  {
   "cell_type": "markdown",
   "metadata": {},
   "source": [
    "Currently the transform job is running but it is doing so in the background. Since we wish to wait until the transform job is done and we would like a bit of feedback we can run the `wait()` method."
   ]
  },
  {
   "cell_type": "code",
   "execution_count": 29,
   "metadata": {},
   "outputs": [
    {
     "name": "stdout",
     "output_type": "stream",
     "text": [
      "......................\u001b[34mArguments: serve\u001b[0m\n",
      "\u001b[34m[2020-02-03 12:34:38 +0000] [1] [INFO] Starting gunicorn 19.7.1\u001b[0m\n",
      "\u001b[34m[2020-02-03 12:34:38 +0000] [1] [INFO] Listening at: http://0.0.0.0:8080 (1)\u001b[0m\n",
      "\u001b[34m[2020-02-03 12:34:38 +0000] [1] [INFO] Using worker: gevent\u001b[0m\n",
      "\u001b[34m[2020-02-03 12:34:38 +0000] [38] [INFO] Booting worker with pid: 38\u001b[0m\n",
      "\u001b[34m[2020-02-03 12:34:38 +0000] [39] [INFO] Booting worker with pid: 39\u001b[0m\n",
      "\u001b[34m[2020-02-03 12:34:38 +0000] [40] [INFO] Booting worker with pid: 40\u001b[0m\n",
      "\u001b[34m[2020-02-03 12:34:38 +0000] [41] [INFO] Booting worker with pid: 41\u001b[0m\n",
      "\u001b[34m[2020-02-03:12:34:38:INFO] Model loaded successfully for worker : 38\u001b[0m\n",
      "\u001b[34m[2020-02-03:12:34:38:INFO] Model loaded successfully for worker : 39\u001b[0m\n",
      "\u001b[34m[2020-02-03:12:34:39:INFO] Model loaded successfully for worker : 40\u001b[0m\n",
      "\u001b[34m[2020-02-03:12:34:39:INFO] Model loaded successfully for worker : 41\u001b[0m\n",
      "\u001b[32m2020-02-03T12:35:13.502:[sagemaker logs]: MaxConcurrentTransforms=4, MaxPayloadInMB=6, BatchStrategy=MULTI_RECORD\u001b[0m\n",
      "\u001b[34m[2020-02-03:12:35:16:INFO] Sniff delimiter as ','\u001b[0m\n",
      "\u001b[34m[2020-02-03:12:35:16:INFO] Determined delimiter of CSV input is ','\u001b[0m\n",
      "\u001b[34m[2020-02-03:12:35:16:INFO] Sniff delimiter as ','\u001b[0m\n",
      "\u001b[34m[2020-02-03:12:35:16:INFO] Determined delimiter of CSV input is ','\u001b[0m\n",
      "\u001b[34m[2020-02-03:12:35:16:INFO] Sniff delimiter as ','\u001b[0m\n",
      "\u001b[34m[2020-02-03:12:35:16:INFO] Determined delimiter of CSV input is ','\u001b[0m\n",
      "\u001b[34m[2020-02-03:12:35:17:INFO] Sniff delimiter as ','\u001b[0m\n",
      "\u001b[34m[2020-02-03:12:35:17:INFO] Determined delimiter of CSV input is ','\u001b[0m\n",
      "\u001b[35m[2020-02-03:12:35:16:INFO] Sniff delimiter as ','\u001b[0m\n",
      "\u001b[35m[2020-02-03:12:35:16:INFO] Determined delimiter of CSV input is ','\u001b[0m\n",
      "\u001b[35m[2020-02-03:12:35:16:INFO] Sniff delimiter as ','\u001b[0m\n",
      "\u001b[35m[2020-02-03:12:35:16:INFO] Determined delimiter of CSV input is ','\u001b[0m\n",
      "\u001b[35m[2020-02-03:12:35:16:INFO] Sniff delimiter as ','\u001b[0m\n",
      "\u001b[35m[2020-02-03:12:35:16:INFO] Determined delimiter of CSV input is ','\u001b[0m\n",
      "\u001b[35m[2020-02-03:12:35:17:INFO] Sniff delimiter as ','\u001b[0m\n",
      "\u001b[35m[2020-02-03:12:35:17:INFO] Determined delimiter of CSV input is ','\u001b[0m\n",
      "\u001b[34m[2020-02-03:12:35:18:ERROR] Feature size of csv inference data 5001 is not consistent with feature size of trained model 5000\u001b[0m\n",
      "\u001b[34mTraceback (most recent call last):\n",
      "  File \"/opt/amazon/lib/python2.7/site-packages/sage_xgboost/serve.py\", line 258, in invocations\n",
      "    preds = ScoringService.predict(data=dtest, content_type=content_type, model_format=format)\n",
      "  File \"/opt/amazon/lib/python2.7/site-packages/sage_xgboost/serve.py\", line 119, in predict\n",
      "    'with feature size of trained model {}'.format(y, x))\u001b[0m\n",
      "\u001b[34mValueError: Feature size of csv inference data 5001 is not consistent with feature size of trained model 5000\u001b[0m\n",
      "\u001b[34m[2020-02-03:12:35:18:ERROR] Feature size of csv inference data 5001 is not consistent with feature size of trained model 5000\u001b[0m\n",
      "\u001b[34mTraceback (most recent call last):\n",
      "  File \"/opt/amazon/lib/python2.7/site-packages/sage_xgboost/serve.py\", line 258, in invocations\n",
      "    preds = ScoringService.predict(data=dtest, content_type=content_type, model_format=format)\n",
      "  File \"/opt/amazon/lib/python2.7/site-packages/sage_xgboost/serve.py\", line 119, in predict\n",
      "    'with feature size of trained model {}'.format(y, x))\u001b[0m\n",
      "\u001b[34mValueError: Feature size of csv inference data 5001 is not consistent with feature size of trained model 5000\u001b[0m\n",
      "\u001b[34m[2020-02-03:12:35:19:ERROR] Feature size of csv inference data 5001 is not consistent with feature size of trained model 5000\u001b[0m\n",
      "\u001b[35m[2020-02-03:12:35:18:ERROR] Feature size of csv inference data 5001 is not consistent with feature size of trained model 5000\u001b[0m\n",
      "\u001b[35mTraceback (most recent call last):\n",
      "  File \"/opt/amazon/lib/python2.7/site-packages/sage_xgboost/serve.py\", line 258, in invocations\n",
      "    preds = ScoringService.predict(data=dtest, content_type=content_type, model_format=format)\n",
      "  File \"/opt/amazon/lib/python2.7/site-packages/sage_xgboost/serve.py\", line 119, in predict\n",
      "    'with feature size of trained model {}'.format(y, x))\u001b[0m\n",
      "\u001b[35mValueError: Feature size of csv inference data 5001 is not consistent with feature size of trained model 5000\u001b[0m\n",
      "\u001b[35m[2020-02-03:12:35:18:ERROR] Feature size of csv inference data 5001 is not consistent with feature size of trained model 5000\u001b[0m\n",
      "\u001b[35mTraceback (most recent call last):\n",
      "  File \"/opt/amazon/lib/python2.7/site-packages/sage_xgboost/serve.py\", line 258, in invocations\n",
      "    preds = ScoringService.predict(data=dtest, content_type=content_type, model_format=format)\n",
      "  File \"/opt/amazon/lib/python2.7/site-packages/sage_xgboost/serve.py\", line 119, in predict\n",
      "    'with feature size of trained model {}'.format(y, x))\u001b[0m\n",
      "\u001b[35mValueError: Feature size of csv inference data 5001 is not consistent with feature size of trained model 5000\u001b[0m\n",
      "\u001b[35m[2020-02-03:12:35:19:ERROR] Feature size of csv inference data 5001 is not consistent with feature size of trained model 5000\u001b[0m\n",
      "\u001b[34mTraceback (most recent call last):\n",
      "  File \"/opt/amazon/lib/python2.7/site-packages/sage_xgboost/serve.py\", line 258, in invocations\n",
      "    preds = ScoringService.predict(data=dtest, content_type=content_type, model_format=format)\n",
      "  File \"/opt/amazon/lib/python2.7/site-packages/sage_xgboost/serve.py\", line 119, in predict\n",
      "    'with feature size of trained model {}'.format(y, x))\u001b[0m\n",
      "\u001b[34mValueError: Feature size of csv inference data 5001 is not consistent with feature size of trained model 5000\u001b[0m\n",
      "\u001b[34m[2020-02-03:12:35:19:ERROR] Feature size of csv inference data 5001 is not consistent with feature size of trained model 5000\u001b[0m\n",
      "\u001b[34mTraceback (most recent call last):\n",
      "  File \"/opt/amazon/lib/python2.7/site-packages/sage_xgboost/serve.py\", line 258, in invocations\n",
      "    preds = ScoringService.predict(data=dtest, content_type=content_type, model_format=format)\n",
      "  File \"/opt/amazon/lib/python2.7/site-packages/sage_xgboost/serve.py\", line 119, in predict\n",
      "    'with feature size of trained model {}'.format(y, x))\u001b[0m\n",
      "\u001b[34mValueError: Feature size of csv inference data 5001 is not consistent with feature size of trained model 5000\u001b[0m\n",
      "\u001b[35mTraceback (most recent call last):\n",
      "  File \"/opt/amazon/lib/python2.7/site-packages/sage_xgboost/serve.py\", line 258, in invocations\n",
      "    preds = ScoringService.predict(data=dtest, content_type=content_type, model_format=format)\n",
      "  File \"/opt/amazon/lib/python2.7/site-packages/sage_xgboost/serve.py\", line 119, in predict\n",
      "    'with feature size of trained model {}'.format(y, x))\u001b[0m\n",
      "\u001b[35mValueError: Feature size of csv inference data 5001 is not consistent with feature size of trained model 5000\u001b[0m\n",
      "\u001b[35m[2020-02-03:12:35:19:ERROR] Feature size of csv inference data 5001 is not consistent with feature size of trained model 5000\u001b[0m\n",
      "\u001b[35mTraceback (most recent call last):\n",
      "  File \"/opt/amazon/lib/python2.7/site-packages/sage_xgboost/serve.py\", line 258, in invocations\n",
      "    preds = ScoringService.predict(data=dtest, content_type=content_type, model_format=format)\n",
      "  File \"/opt/amazon/lib/python2.7/site-packages/sage_xgboost/serve.py\", line 119, in predict\n",
      "    'with feature size of trained model {}'.format(y, x))\u001b[0m\n",
      "\u001b[35mValueError: Feature size of csv inference data 5001 is not consistent with feature size of trained model 5000\u001b[0m\n",
      "\u001b[32m2020-02-03T12:35:18.897:[sagemaker logs]: sagemaker-ap-northeast-1-165829362107/sentiment-xgboost/test.csv: ClientError: 400\u001b[0m\n",
      "\u001b[32m2020-02-03T12:35:18.897:[sagemaker logs]: sagemaker-ap-northeast-1-165829362107/sentiment-xgboost/test.csv: \u001b[0m\n",
      "\u001b[32m2020-02-03T12:35:18.898:[sagemaker logs]: sagemaker-ap-northeast-1-165829362107/sentiment-xgboost/test.csv: Message:\u001b[0m\n",
      "\u001b[32m2020-02-03T12:35:18.898:[sagemaker logs]: sagemaker-ap-northeast-1-165829362107/sentiment-xgboost/test.csv: Unable to evaluate payload provided: Feature size of csv inference data 5001 is not consistent with feature size of trained model 5000\u001b[0m\n",
      "\u001b[32m2020-02-03T12:35:18.963:[sagemaker logs]: sagemaker-ap-northeast-1-165829362107/sentiment-xgboost/test.csv: ClientError: 400\u001b[0m\n",
      "\u001b[32m2020-02-03T12:35:18.963:[sagemaker logs]: sagemaker-ap-northeast-1-165829362107/sentiment-xgboost/test.csv: \u001b[0m\n",
      "\u001b[32m2020-02-03T12:35:18.964:[sagemaker logs]: sagemaker-ap-northeast-1-165829362107/sentiment-xgboost/test.csv: Message:\u001b[0m\n",
      "\u001b[32m2020-02-03T12:35:18.964:[sagemaker logs]: sagemaker-ap-northeast-1-165829362107/sentiment-xgboost/test.csv: Unable to evaluate payload provided: Feature size of csv inference data 5001 is not consistent with feature size of trained model 5000\u001b[0m\n",
      "\u001b[32m2020-02-03T12:35:19.067:[sagemaker logs]: sagemaker-ap-northeast-1-165829362107/sentiment-xgboost/test.csv: ClientError: 400\u001b[0m\n",
      "\u001b[32m2020-02-03T12:35:19.068:[sagemaker logs]: sagemaker-ap-northeast-1-165829362107/sentiment-xgboost/test.csv: \u001b[0m\n",
      "\u001b[32m2020-02-03T12:35:19.069:[sagemaker logs]: sagemaker-ap-northeast-1-165829362107/sentiment-xgboost/test.csv: Message:\u001b[0m\n",
      "\u001b[32m2020-02-03T12:35:19.069:[sagemaker logs]: sagemaker-ap-northeast-1-165829362107/sentiment-xgboost/test.csv: Unable to evaluate payload provided: Feature size of csv inference data 5001 is not consistent with feature size of trained model 5000\u001b[0m\n",
      "\u001b[32m2020-02-03T12:35:19.097:[sagemaker logs]: sagemaker-ap-northeast-1-165829362107/sentiment-xgboost/test.csv: ClientError: 400\u001b[0m\n",
      "\u001b[32m2020-02-03T12:35:19.097:[sagemaker logs]: sagemaker-ap-northeast-1-165829362107/sentiment-xgboost/test.csv: \u001b[0m\n",
      "\u001b[32m2020-02-03T12:35:19.097:[sagemaker logs]: sagemaker-ap-northeast-1-165829362107/sentiment-xgboost/test.csv: Message:\u001b[0m\n",
      "\u001b[32m2020-02-03T12:35:19.097:[sagemaker logs]: sagemaker-ap-northeast-1-165829362107/sentiment-xgboost/test.csv: Unable to evaluate payload provided: Feature size of csv inference data 5001 is not consistent with feature size of trained model 5000\u001b[0m\n"
     ]
    },
    {
     "name": "stdout",
     "output_type": "stream",
     "text": [
      "\n"
     ]
    },
    {
     "ename": "UnexpectedStatusException",
     "evalue": "Error for Transform job xgboost-200203-1117-003-070ada28-2020-02-03-12-31-06-504: Failed. Reason: ClientError: See job logs for more information",
     "output_type": "error",
     "traceback": [
      "\u001b[0;31m---------------------------------------------------------------------------\u001b[0m",
      "\u001b[0;31mUnexpectedStatusException\u001b[0m                 Traceback (most recent call last)",
      "\u001b[0;32m<ipython-input-29-41dd6a2aa41e>\u001b[0m in \u001b[0;36m<module>\u001b[0;34m()\u001b[0m\n\u001b[0;32m----> 1\u001b[0;31m \u001b[0mxgb_transformer\u001b[0m\u001b[0;34m.\u001b[0m\u001b[0mwait\u001b[0m\u001b[0;34m(\u001b[0m\u001b[0;34m)\u001b[0m\u001b[0;34m\u001b[0m\u001b[0m\n\u001b[0m",
      "\u001b[0;32m~/anaconda3/envs/python3/lib/python3.6/site-packages/sagemaker/transformer.py\u001b[0m in \u001b[0;36mwait\u001b[0;34m(self, logs)\u001b[0m\n\u001b[1;32m    243\u001b[0m         \u001b[0;34m\"\"\"Placeholder docstring\"\"\"\u001b[0m\u001b[0;34m\u001b[0m\u001b[0m\n\u001b[1;32m    244\u001b[0m         \u001b[0mself\u001b[0m\u001b[0;34m.\u001b[0m\u001b[0m_ensure_last_transform_job\u001b[0m\u001b[0;34m(\u001b[0m\u001b[0;34m)\u001b[0m\u001b[0;34m\u001b[0m\u001b[0m\n\u001b[0;32m--> 245\u001b[0;31m         \u001b[0mself\u001b[0m\u001b[0;34m.\u001b[0m\u001b[0mlatest_transform_job\u001b[0m\u001b[0;34m.\u001b[0m\u001b[0mwait\u001b[0m\u001b[0;34m(\u001b[0m\u001b[0mlogs\u001b[0m\u001b[0;34m=\u001b[0m\u001b[0mlogs\u001b[0m\u001b[0;34m)\u001b[0m\u001b[0;34m\u001b[0m\u001b[0m\n\u001b[0m\u001b[1;32m    246\u001b[0m \u001b[0;34m\u001b[0m\u001b[0m\n\u001b[1;32m    247\u001b[0m     \u001b[0;32mdef\u001b[0m \u001b[0mstop_transform_job\u001b[0m\u001b[0;34m(\u001b[0m\u001b[0mself\u001b[0m\u001b[0;34m,\u001b[0m \u001b[0mwait\u001b[0m\u001b[0;34m=\u001b[0m\u001b[0;32mTrue\u001b[0m\u001b[0;34m)\u001b[0m\u001b[0;34m:\u001b[0m\u001b[0;34m\u001b[0m\u001b[0m\n",
      "\u001b[0;32m~/anaconda3/envs/python3/lib/python3.6/site-packages/sagemaker/transformer.py\u001b[0m in \u001b[0;36mwait\u001b[0;34m(self, logs)\u001b[0m\n\u001b[1;32m    372\u001b[0m     \u001b[0;32mdef\u001b[0m \u001b[0mwait\u001b[0m\u001b[0;34m(\u001b[0m\u001b[0mself\u001b[0m\u001b[0;34m,\u001b[0m \u001b[0mlogs\u001b[0m\u001b[0;34m=\u001b[0m\u001b[0;32mTrue\u001b[0m\u001b[0;34m)\u001b[0m\u001b[0;34m:\u001b[0m\u001b[0;34m\u001b[0m\u001b[0m\n\u001b[1;32m    373\u001b[0m         \u001b[0;32mif\u001b[0m \u001b[0mlogs\u001b[0m\u001b[0;34m:\u001b[0m\u001b[0;34m\u001b[0m\u001b[0m\n\u001b[0;32m--> 374\u001b[0;31m             \u001b[0mself\u001b[0m\u001b[0;34m.\u001b[0m\u001b[0msagemaker_session\u001b[0m\u001b[0;34m.\u001b[0m\u001b[0mlogs_for_transform_job\u001b[0m\u001b[0;34m(\u001b[0m\u001b[0mself\u001b[0m\u001b[0;34m.\u001b[0m\u001b[0mjob_name\u001b[0m\u001b[0;34m,\u001b[0m \u001b[0mwait\u001b[0m\u001b[0;34m=\u001b[0m\u001b[0;32mTrue\u001b[0m\u001b[0;34m)\u001b[0m\u001b[0;34m\u001b[0m\u001b[0m\n\u001b[0m\u001b[1;32m    375\u001b[0m         \u001b[0;32melse\u001b[0m\u001b[0;34m:\u001b[0m\u001b[0;34m\u001b[0m\u001b[0m\n\u001b[1;32m    376\u001b[0m             \u001b[0mself\u001b[0m\u001b[0;34m.\u001b[0m\u001b[0msagemaker_session\u001b[0m\u001b[0;34m.\u001b[0m\u001b[0mwait_for_transform_job\u001b[0m\u001b[0;34m(\u001b[0m\u001b[0mself\u001b[0m\u001b[0;34m.\u001b[0m\u001b[0mjob_name\u001b[0m\u001b[0;34m)\u001b[0m\u001b[0;34m\u001b[0m\u001b[0m\n",
      "\u001b[0;32m~/anaconda3/envs/python3/lib/python3.6/site-packages/sagemaker/session.py\u001b[0m in \u001b[0;36mlogs_for_transform_job\u001b[0;34m(self, job_name, wait, poll)\u001b[0m\n\u001b[1;32m   3171\u001b[0m \u001b[0;34m\u001b[0m\u001b[0m\n\u001b[1;32m   3172\u001b[0m         \u001b[0;32mif\u001b[0m \u001b[0mwait\u001b[0m\u001b[0;34m:\u001b[0m\u001b[0;34m\u001b[0m\u001b[0m\n\u001b[0;32m-> 3173\u001b[0;31m             \u001b[0mself\u001b[0m\u001b[0;34m.\u001b[0m\u001b[0m_check_job_status\u001b[0m\u001b[0;34m(\u001b[0m\u001b[0mjob_name\u001b[0m\u001b[0;34m,\u001b[0m \u001b[0mdescription\u001b[0m\u001b[0;34m,\u001b[0m \u001b[0;34m\"TransformJobStatus\"\u001b[0m\u001b[0;34m)\u001b[0m\u001b[0;34m\u001b[0m\u001b[0m\n\u001b[0m\u001b[1;32m   3174\u001b[0m             \u001b[0;32mif\u001b[0m \u001b[0mdot\u001b[0m\u001b[0;34m:\u001b[0m\u001b[0;34m\u001b[0m\u001b[0m\n\u001b[1;32m   3175\u001b[0m                 \u001b[0mprint\u001b[0m\u001b[0;34m(\u001b[0m\u001b[0;34m)\u001b[0m\u001b[0;34m\u001b[0m\u001b[0m\n",
      "\u001b[0;32m~/anaconda3/envs/python3/lib/python3.6/site-packages/sagemaker/session.py\u001b[0m in \u001b[0;36m_check_job_status\u001b[0;34m(self, job, desc, status_key_name)\u001b[0m\n\u001b[1;32m   2595\u001b[0m                 ),\n\u001b[1;32m   2596\u001b[0m                 \u001b[0mallowed_statuses\u001b[0m\u001b[0;34m=\u001b[0m\u001b[0;34m[\u001b[0m\u001b[0;34m\"Completed\"\u001b[0m\u001b[0;34m,\u001b[0m \u001b[0;34m\"Stopped\"\u001b[0m\u001b[0;34m]\u001b[0m\u001b[0;34m,\u001b[0m\u001b[0;34m\u001b[0m\u001b[0m\n\u001b[0;32m-> 2597\u001b[0;31m                 \u001b[0mactual_status\u001b[0m\u001b[0;34m=\u001b[0m\u001b[0mstatus\u001b[0m\u001b[0;34m,\u001b[0m\u001b[0;34m\u001b[0m\u001b[0m\n\u001b[0m\u001b[1;32m   2598\u001b[0m             )\n\u001b[1;32m   2599\u001b[0m \u001b[0;34m\u001b[0m\u001b[0m\n",
      "\u001b[0;31mUnexpectedStatusException\u001b[0m: Error for Transform job xgboost-200203-1117-003-070ada28-2020-02-03-12-31-06-504: Failed. Reason: ClientError: See job logs for more information"
     ]
    }
   ],
   "source": [
    "xgb_transformer.wait()"
   ]
  },
  {
   "cell_type": "markdown",
   "metadata": {},
   "source": [
    "Now the transform job has executed and the result, the estimated sentiment of each review, has been saved on S3. Since we would rather work on this file locally we can perform a bit of notebook magic to copy the file to the `data_dir`."
   ]
  },
  {
   "cell_type": "code",
   "execution_count": 30,
   "metadata": {},
   "outputs": [],
   "source": [
    "!aws s3 cp --recursive $xgb_transformer.output_path $data_dir"
   ]
  },
  {
   "cell_type": "markdown",
   "metadata": {},
   "source": [
    "The last step is now to read in the output from our model, convert the output to something a little more usable, in this case we want the sentiment to be either `1` (positive) or `0` (negative), and then compare to the ground truth labels."
   ]
  },
  {
   "cell_type": "code",
   "execution_count": 34,
   "metadata": {},
   "outputs": [
    {
     "ename": "TypeError",
     "evalue": "type numpy.ndarray doesn't define __round__ method",
     "output_type": "error",
     "traceback": [
      "\u001b[0;31m---------------------------------------------------------------------------\u001b[0m",
      "\u001b[0;31mTypeError\u001b[0m                                 Traceback (most recent call last)",
      "\u001b[0;32m<ipython-input-34-367a0ffbac0c>\u001b[0m in \u001b[0;36m<module>\u001b[0;34m()\u001b[0m\n\u001b[1;32m      1\u001b[0m \u001b[0mpredictions\u001b[0m \u001b[0;34m=\u001b[0m \u001b[0mpd\u001b[0m\u001b[0;34m.\u001b[0m\u001b[0mread_csv\u001b[0m\u001b[0;34m(\u001b[0m\u001b[0mos\u001b[0m\u001b[0;34m.\u001b[0m\u001b[0mpath\u001b[0m\u001b[0;34m.\u001b[0m\u001b[0mjoin\u001b[0m\u001b[0;34m(\u001b[0m\u001b[0mdata_dir\u001b[0m\u001b[0;34m,\u001b[0m \u001b[0;34m'test.csv'\u001b[0m\u001b[0;34m)\u001b[0m\u001b[0;34m,\u001b[0m \u001b[0mheader\u001b[0m\u001b[0;34m=\u001b[0m\u001b[0;32mNone\u001b[0m\u001b[0;34m)\u001b[0m\u001b[0;34m\u001b[0m\u001b[0m\n\u001b[0;32m----> 2\u001b[0;31m \u001b[0mpredictions\u001b[0m \u001b[0;34m=\u001b[0m \u001b[0;34m[\u001b[0m\u001b[0mround\u001b[0m\u001b[0;34m(\u001b[0m\u001b[0mnum\u001b[0m\u001b[0;34m)\u001b[0m \u001b[0;32mfor\u001b[0m \u001b[0mnum\u001b[0m \u001b[0;32min\u001b[0m \u001b[0mpredictions\u001b[0m\u001b[0;34m.\u001b[0m\u001b[0msqueeze\u001b[0m\u001b[0;34m(\u001b[0m\u001b[0;34m)\u001b[0m\u001b[0;34m.\u001b[0m\u001b[0mvalues\u001b[0m\u001b[0;34m]\u001b[0m\u001b[0;34m\u001b[0m\u001b[0m\n\u001b[0m",
      "\u001b[0;32m<ipython-input-34-367a0ffbac0c>\u001b[0m in \u001b[0;36m<listcomp>\u001b[0;34m(.0)\u001b[0m\n\u001b[1;32m      1\u001b[0m \u001b[0mpredictions\u001b[0m \u001b[0;34m=\u001b[0m \u001b[0mpd\u001b[0m\u001b[0;34m.\u001b[0m\u001b[0mread_csv\u001b[0m\u001b[0;34m(\u001b[0m\u001b[0mos\u001b[0m\u001b[0;34m.\u001b[0m\u001b[0mpath\u001b[0m\u001b[0;34m.\u001b[0m\u001b[0mjoin\u001b[0m\u001b[0;34m(\u001b[0m\u001b[0mdata_dir\u001b[0m\u001b[0;34m,\u001b[0m \u001b[0;34m'test.csv'\u001b[0m\u001b[0;34m)\u001b[0m\u001b[0;34m,\u001b[0m \u001b[0mheader\u001b[0m\u001b[0;34m=\u001b[0m\u001b[0;32mNone\u001b[0m\u001b[0;34m)\u001b[0m\u001b[0;34m\u001b[0m\u001b[0m\n\u001b[0;32m----> 2\u001b[0;31m \u001b[0mpredictions\u001b[0m \u001b[0;34m=\u001b[0m \u001b[0;34m[\u001b[0m\u001b[0mround\u001b[0m\u001b[0;34m(\u001b[0m\u001b[0mnum\u001b[0m\u001b[0;34m)\u001b[0m \u001b[0;32mfor\u001b[0m \u001b[0mnum\u001b[0m \u001b[0;32min\u001b[0m \u001b[0mpredictions\u001b[0m\u001b[0;34m.\u001b[0m\u001b[0msqueeze\u001b[0m\u001b[0;34m(\u001b[0m\u001b[0;34m)\u001b[0m\u001b[0;34m.\u001b[0m\u001b[0mvalues\u001b[0m\u001b[0;34m]\u001b[0m\u001b[0;34m\u001b[0m\u001b[0m\n\u001b[0m",
      "\u001b[0;31mTypeError\u001b[0m: type numpy.ndarray doesn't define __round__ method"
     ]
    }
   ],
   "source": [
    "predictions = pd.read_csv(os.path.join(data_dir, 'test.csv.out'), header=None)\n",
    "predictions = [round(num) for num in predictions.squeeze().values]"
   ]
  },
  {
   "cell_type": "code",
   "execution_count": 35,
   "metadata": {},
   "outputs": [
    {
     "ename": "ValueError",
     "evalue": "Classification metrics can't handle a mix of binary and multiclass-multioutput targets",
     "output_type": "error",
     "traceback": [
      "\u001b[0;31m---------------------------------------------------------------------------\u001b[0m",
      "\u001b[0;31mValueError\u001b[0m                                Traceback (most recent call last)",
      "\u001b[0;32m<ipython-input-35-43c245f597b9>\u001b[0m in \u001b[0;36m<module>\u001b[0;34m()\u001b[0m\n\u001b[1;32m      1\u001b[0m \u001b[0;32mfrom\u001b[0m \u001b[0msklearn\u001b[0m\u001b[0;34m.\u001b[0m\u001b[0mmetrics\u001b[0m \u001b[0;32mimport\u001b[0m \u001b[0maccuracy_score\u001b[0m\u001b[0;34m\u001b[0m\u001b[0m\n\u001b[0;32m----> 2\u001b[0;31m \u001b[0maccuracy_score\u001b[0m\u001b[0;34m(\u001b[0m\u001b[0mtest_y\u001b[0m\u001b[0;34m,\u001b[0m \u001b[0mpredictions\u001b[0m\u001b[0;34m)\u001b[0m\u001b[0;34m\u001b[0m\u001b[0m\n\u001b[0m",
      "\u001b[0;32m~/anaconda3/envs/python3/lib/python3.6/site-packages/sklearn/metrics/classification.py\u001b[0m in \u001b[0;36maccuracy_score\u001b[0;34m(y_true, y_pred, normalize, sample_weight)\u001b[0m\n\u001b[1;32m    174\u001b[0m \u001b[0;34m\u001b[0m\u001b[0m\n\u001b[1;32m    175\u001b[0m     \u001b[0;31m# Compute accuracy for each possible representation\u001b[0m\u001b[0;34m\u001b[0m\u001b[0;34m\u001b[0m\u001b[0m\n\u001b[0;32m--> 176\u001b[0;31m     \u001b[0my_type\u001b[0m\u001b[0;34m,\u001b[0m \u001b[0my_true\u001b[0m\u001b[0;34m,\u001b[0m \u001b[0my_pred\u001b[0m \u001b[0;34m=\u001b[0m \u001b[0m_check_targets\u001b[0m\u001b[0;34m(\u001b[0m\u001b[0my_true\u001b[0m\u001b[0;34m,\u001b[0m \u001b[0my_pred\u001b[0m\u001b[0;34m)\u001b[0m\u001b[0;34m\u001b[0m\u001b[0m\n\u001b[0m\u001b[1;32m    177\u001b[0m     \u001b[0mcheck_consistent_length\u001b[0m\u001b[0;34m(\u001b[0m\u001b[0my_true\u001b[0m\u001b[0;34m,\u001b[0m \u001b[0my_pred\u001b[0m\u001b[0;34m,\u001b[0m \u001b[0msample_weight\u001b[0m\u001b[0;34m)\u001b[0m\u001b[0;34m\u001b[0m\u001b[0m\n\u001b[1;32m    178\u001b[0m     \u001b[0;32mif\u001b[0m \u001b[0my_type\u001b[0m\u001b[0;34m.\u001b[0m\u001b[0mstartswith\u001b[0m\u001b[0;34m(\u001b[0m\u001b[0;34m'multilabel'\u001b[0m\u001b[0;34m)\u001b[0m\u001b[0;34m:\u001b[0m\u001b[0;34m\u001b[0m\u001b[0m\n",
      "\u001b[0;32m~/anaconda3/envs/python3/lib/python3.6/site-packages/sklearn/metrics/classification.py\u001b[0m in \u001b[0;36m_check_targets\u001b[0;34m(y_true, y_pred)\u001b[0m\n\u001b[1;32m     79\u001b[0m     \u001b[0;32mif\u001b[0m \u001b[0mlen\u001b[0m\u001b[0;34m(\u001b[0m\u001b[0my_type\u001b[0m\u001b[0;34m)\u001b[0m \u001b[0;34m>\u001b[0m \u001b[0;36m1\u001b[0m\u001b[0;34m:\u001b[0m\u001b[0;34m\u001b[0m\u001b[0m\n\u001b[1;32m     80\u001b[0m         raise ValueError(\"Classification metrics can't handle a mix of {0} \"\n\u001b[0;32m---> 81\u001b[0;31m                          \"and {1} targets\".format(type_true, type_pred))\n\u001b[0m\u001b[1;32m     82\u001b[0m \u001b[0;34m\u001b[0m\u001b[0m\n\u001b[1;32m     83\u001b[0m     \u001b[0;31m# We can't have more than one value on y_type => The set is no more needed\u001b[0m\u001b[0;34m\u001b[0m\u001b[0;34m\u001b[0m\u001b[0m\n",
      "\u001b[0;31mValueError\u001b[0m: Classification metrics can't handle a mix of binary and multiclass-multioutput targets"
     ]
    }
   ],
   "source": [
    "from sklearn.metrics import accuracy_score\n",
    "accuracy_score(test_y, predictions)"
   ]
  },
  {
   "cell_type": "markdown",
   "metadata": {},
   "source": [
    "## Optional: Clean up\n",
    "\n",
    "The default notebook instance on SageMaker doesn't have a lot of excess disk space available. As you continue to complete and execute notebooks you will eventually fill up this disk space, leading to errors which can be difficult to diagnose. Once you are completely finished using a notebook it is a good idea to remove the files that you created along the way. Of course, you can do this from the terminal or from the notebook hub if you would like. The cell below contains some commands to clean up the created files from within the notebook."
   ]
  },
  {
   "cell_type": "code",
   "execution_count": 36,
   "metadata": {},
   "outputs": [],
   "source": [
    "# First we will remove all of the files contained in the data_dir directory\n",
    "!rm $data_dir/*\n",
    "\n",
    "# And then we delete the directory itself\n",
    "!rmdir $data_dir\n",
    "\n",
    "# Similarly we will remove the files in the cache_dir directory and the directory itself\n",
    "!rm $cache_dir/*\n",
    "!rmdir $cache_dir"
   ]
  },
  {
   "cell_type": "code",
   "execution_count": null,
   "metadata": {},
   "outputs": [],
   "source": []
  }
 ],
 "metadata": {
  "kernelspec": {
   "display_name": "conda_python3",
   "language": "python",
   "name": "conda_python3"
  },
  "language_info": {
   "codemirror_mode": {
    "name": "ipython",
    "version": 3
   },
   "file_extension": ".py",
   "mimetype": "text/x-python",
   "name": "python",
   "nbconvert_exporter": "python",
   "pygments_lexer": "ipython3",
   "version": "3.6.5"
  }
 },
 "nbformat": 4,
 "nbformat_minor": 2
}
